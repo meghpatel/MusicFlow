{
 "cells": [
  {
   "cell_type": "code",
   "execution_count": 2,
   "metadata": {},
   "outputs": [],
   "source": [
    "import os\n",
    "import json\n",
    "import pyperclip\n",
    "import pandas as pd"
   ]
  },
  {
   "cell_type": "code",
   "execution_count": 3,
   "metadata": {},
   "outputs": [],
   "source": [
    "DATA_PATH = os.path.join('../Apple Music Activity')"
   ]
  },
  {
   "cell_type": "code",
   "execution_count": 4,
   "metadata": {},
   "outputs": [],
   "source": [
    "with open(os.path.join(DATA_PATH, 'Apple Music Library Tracks.json'), 'r') as f:\n",
    "    library = json.load(f)"
   ]
  },
  {
   "cell_type": "code",
   "execution_count": 5,
   "metadata": {},
   "outputs": [
    {
     "data": {
      "text/plain": [
       "(list, 2761)"
      ]
     },
     "execution_count": 5,
     "metadata": {},
     "output_type": "execute_result"
    }
   ],
   "source": [
    "type(library), len(library)"
   ]
  },
  {
   "cell_type": "code",
   "execution_count": 6,
   "metadata": {},
   "outputs": [],
   "source": [
    "df = pd.DataFrame(library)"
   ]
  },
  {
   "cell_type": "code",
   "execution_count": 7,
   "metadata": {},
   "outputs": [
    {
     "data": {
      "text/plain": [
       "(2761, 52)"
      ]
     },
     "execution_count": 7,
     "metadata": {},
     "output_type": "execute_result"
    }
   ],
   "source": [
    "df.shape"
   ]
  },
  {
   "cell_type": "code",
   "execution_count": 8,
   "metadata": {},
   "outputs": [
    {
     "data": {
      "text/plain": [
       "Index(['Content Type', 'Track Identifier', 'Title', 'Sort Name', 'Artist',\n",
       "       'Sort Artist', 'Composer', 'Is Part of Compilation', 'Album',\n",
       "       'Sort Album', 'Album Artist', 'Genre', 'Track Year',\n",
       "       'Track Number On Album', 'Track Count On Album', 'Disc Number Of Album',\n",
       "       'Disc Count Of Album', 'Track Duration', 'Track Play Count',\n",
       "       'Date Added To Library', 'Date Added To iCloud Music Library',\n",
       "       'Last Modified Date', 'Last Played Date', 'Skip Count',\n",
       "       'Date of Last Skip', 'Is Purchased', 'Audio File Extension',\n",
       "       'Is Checked', 'Copyright', 'Release Date', 'Purchased Track Identifier',\n",
       "       'Apple Music Track Identifier', 'Track Like Rating',\n",
       "       'Favorite Status - Track', 'Favorite Date - Track', 'Album Like Rating',\n",
       "       'Favorite Status - Album', 'Grouping', 'Comments', 'Beats Per Minute',\n",
       "       'Rating', 'Album Rating', 'Remember Playback Position',\n",
       "       'Album Rating Method', 'Work Name', 'Movement Name', 'Movement Number',\n",
       "       'Movement Count', 'Display Work Name', 'Playlist Only Track',\n",
       "       'Sort Album Artist', 'Tag Matched Track Identifier'],\n",
       "      dtype='object')"
      ]
     },
     "execution_count": 8,
     "metadata": {},
     "output_type": "execute_result"
    }
   ],
   "source": [
    "df.columns"
   ]
  },
  {
   "cell_type": "code",
   "execution_count": 9,
   "metadata": {},
   "outputs": [
    {
     "data": {
      "text/plain": [
       "0"
      ]
     },
     "execution_count": 9,
     "metadata": {},
     "output_type": "execute_result"
    }
   ],
   "source": [
    "df['Track Identifier'].isna().sum()"
   ]
  },
  {
   "cell_type": "code",
   "execution_count": 10,
   "metadata": {},
   "outputs": [
    {
     "data": {
      "text/plain": [
       "96"
      ]
     },
     "execution_count": 10,
     "metadata": {},
     "output_type": "execute_result"
    }
   ],
   "source": [
    "df['Sort Name'].isna().sum()"
   ]
  },
  {
   "cell_type": "code",
   "execution_count": 11,
   "metadata": {},
   "outputs": [
    {
     "data": {
      "text/plain": [
       "Content Type\n",
       "Song           2743\n",
       "Music Video      18\n",
       "Name: count, dtype: int64"
      ]
     },
     "execution_count": 11,
     "metadata": {},
     "output_type": "execute_result"
    }
   ],
   "source": [
    "df['Content Type'].value_counts()"
   ]
  },
  {
   "cell_type": "code",
   "execution_count": 12,
   "metadata": {},
   "outputs": [
    {
     "data": {
      "text/plain": [
       "(1327, 32)"
      ]
     },
     "execution_count": 12,
     "metadata": {},
     "output_type": "execute_result"
    }
   ],
   "source": [
    "df['Artist'].nunique(), df['Artist'].isna().sum()"
   ]
  },
  {
   "cell_type": "code",
   "execution_count": 13,
   "metadata": {},
   "outputs": [
    {
     "data": {
      "text/plain": [
       "(2729, 52)"
      ]
     },
     "execution_count": 13,
     "metadata": {},
     "output_type": "execute_result"
    }
   ],
   "source": [
    "non_null_artists_df = df[~df['Artist'].isna()]\n",
    "non_null_artists_df.shape"
   ]
  },
  {
   "cell_type": "code",
   "execution_count": 14,
   "metadata": {},
   "outputs": [
    {
     "data": {
      "text/plain": [
       "(1893, 478)"
      ]
     },
     "execution_count": 14,
     "metadata": {},
     "output_type": "execute_result"
    }
   ],
   "source": [
    "df['Composer'].nunique(), df['Composer'].isna().sum()"
   ]
  },
  {
   "cell_type": "code",
   "execution_count": 15,
   "metadata": {},
   "outputs": [
    {
     "data": {
      "text/plain": [
       "Is Part of Compilation\n",
       "False    2543\n",
       "True      200\n",
       "Name: count, dtype: int64"
      ]
     },
     "execution_count": 15,
     "metadata": {},
     "output_type": "execute_result"
    }
   ],
   "source": [
    "df['Is Part of Compilation'].value_counts()"
   ]
  },
  {
   "cell_type": "code",
   "execution_count": 16,
   "metadata": {},
   "outputs": [],
   "source": [
    "df[df['Is Part of Compilation'] == True].to_csv('compilations.csv', index=False)"
   ]
  },
  {
   "cell_type": "code",
   "execution_count": 17,
   "metadata": {},
   "outputs": [
    {
     "name": "stdout",
     "output_type": "stream",
     "text": [
      "4\n"
     ]
    }
   ],
   "source": [
    "min_index = -1\n",
    "min_len = 100\n",
    "for i, row in df.iterrows():\n",
    "    ctr = 0\n",
    "    for col in df.columns:\n",
    "        if pd.isna(row[col]):\n",
    "            ctr += 1\n",
    "    if  ctr < min_len:\n",
    "        min_len = ctr\n",
    "        min_index = i\n",
    "\n",
    "print (min_len)"
   ]
  },
  {
   "cell_type": "code",
   "execution_count": 18,
   "metadata": {},
   "outputs": [],
   "source": [
    "def generate_markdown_table(df, min_index):\n",
    "    # Helper function to map data types to more readable formats\n",
    "    def map_data_type(dtype, sample_value):\n",
    "        # Check for datetime\n",
    "        if pd.api.types.is_datetime64_any_dtype(dtype) or (\n",
    "            isinstance(sample_value, str) and pd.to_datetime(sample_value, errors='coerce') is not pd.NaT\n",
    "        ):\n",
    "            return \"Datetime\"\n",
    "        # Check for Boolean (Python Boolean or string representation)\n",
    "        elif isinstance(sample_value, bool) or (isinstance(sample_value, str) and sample_value.lower() in [\"true\", \"false\"]):\n",
    "            return \"Boolean\"\n",
    "        elif pd.api.types.is_string_dtype(dtype):\n",
    "            return \"String\"\n",
    "        elif pd.api.types.is_numeric_dtype(dtype):\n",
    "            if pd.api.types.is_integer_dtype(dtype):\n",
    "                return \"Integer\"\n",
    "            elif pd.api.types.is_float_dtype(dtype):\n",
    "                return \"Float\"\n",
    "        elif isinstance(sample_value, list):\n",
    "            return \"List\"\n",
    "        else:\n",
    "            return str(dtype)  # Fallback to original dtype if no match\n",
    "\n",
    "    # Generate the table header\n",
    "    markdown = \"| Column Name | Data Type | Description | Example Value |\\n\"\n",
    "    markdown += \"|-------------|-----------|-------------|---------------|\\n\"\n",
    "\n",
    "    # Iterate over DataFrame columns to generate each row\n",
    "    for column in df.columns:\n",
    "        sample_value = df[column].iloc[min_index] if not df[column].empty else \"N/A\"\n",
    "        data_type = map_data_type(df[column].dtype, sample_value)\n",
    "        # Convert example_value to string to avoid formatting issues\n",
    "        example_value = str(sample_value).replace(\"\\n\", \" \").replace(\"|\", \"\\\\|\")\n",
    "        # Create a new row for each column\n",
    "        markdown += f\"| `{column}` | {data_type} |  | {example_value} |\\n\"\n",
    "\n",
    "    return markdown\n",
    "\n",
    "markdown_output = generate_markdown_table(df, min_index)\n",
    "pyperclip.copy(markdown_output)\n"
   ]
  },
  {
   "cell_type": "code",
   "execution_count": 19,
   "metadata": {},
   "outputs": [
    {
     "name": "stdout",
     "output_type": "stream",
     "text": [
      "4\n"
     ]
    }
   ],
   "source": [
    "# Compute the number of NaNs in each row\n",
    "num_nans_per_row = df.isna().sum(axis=1)\n",
    "\n",
    "# Find the minimal number of NaNs and the corresponding row index\n",
    "min_len_new = num_nans_per_row.min()\n",
    "min_index_new = num_nans_per_row.idxmin()\n",
    "\n",
    "print (min_len_new)\n"
   ]
  },
  {
   "cell_type": "code",
   "execution_count": 20,
   "metadata": {},
   "outputs": [
    {
     "data": {
      "text/plain": [
       "Genre\n",
       "Hip-Hop/Rap          891\n",
       "Dance                465\n",
       "Pop                  230\n",
       "Electronic           189\n",
       "Easy Listening       188\n",
       "                    ... \n",
       "Progressive House      1\n",
       "Underground Rap        1\n",
       "Spoken Word            1\n",
       "Traditional Folk       1\n",
       "Pop/Rock               1\n",
       "Name: count, Length: 68, dtype: int64"
      ]
     },
     "execution_count": 20,
     "metadata": {},
     "output_type": "execute_result"
    }
   ],
   "source": [
    "df['Genre'].value_counts()"
   ]
  },
  {
   "cell_type": "code",
   "execution_count": 21,
   "metadata": {},
   "outputs": [
    {
     "data": {
      "text/plain": [
       "37"
      ]
     },
     "execution_count": 21,
     "metadata": {},
     "output_type": "execute_result"
    }
   ],
   "source": [
    "df['Genre'].isna().sum()"
   ]
  },
  {
   "cell_type": "code",
   "execution_count": 22,
   "metadata": {},
   "outputs": [
    {
     "data": {
      "text/plain": [
       "9"
      ]
     },
     "execution_count": 22,
     "metadata": {},
     "output_type": "execute_result"
    }
   ],
   "source": [
    "df['Track Year'].isna().sum()"
   ]
  },
  {
   "cell_type": "code",
   "execution_count": 23,
   "metadata": {},
   "outputs": [],
   "source": [
    "df['Track Year'] = df['Track Year'].astype('Int64')\n"
   ]
  },
  {
   "cell_type": "code",
   "execution_count": 79,
   "metadata": {},
   "outputs": [
    {
     "data": {
      "text/plain": [
       "9"
      ]
     },
     "execution_count": 79,
     "metadata": {},
     "output_type": "execute_result"
    }
   ],
   "source": [
    "df['Track Year'].isna().sum()"
   ]
  },
  {
   "cell_type": "code",
   "execution_count": 39,
   "metadata": {},
   "outputs": [],
   "source": [
    "utopia_df = df[df['Album'] == 'UTOPIA']"
   ]
  },
  {
   "cell_type": "code",
   "execution_count": 40,
   "metadata": {},
   "outputs": [
    {
     "data": {
      "text/html": [
       "<div>\n",
       "<style scoped>\n",
       "    .dataframe tbody tr th:only-of-type {\n",
       "        vertical-align: middle;\n",
       "    }\n",
       "\n",
       "    .dataframe tbody tr th {\n",
       "        vertical-align: top;\n",
       "    }\n",
       "\n",
       "    .dataframe thead th {\n",
       "        text-align: right;\n",
       "    }\n",
       "</style>\n",
       "<table border=\"1\" class=\"dataframe\">\n",
       "  <thead>\n",
       "    <tr style=\"text-align: right;\">\n",
       "      <th></th>\n",
       "      <th>Title</th>\n",
       "      <th>Track Number On Album</th>\n",
       "      <th>Track Count On Album</th>\n",
       "      <th>Disc Number Of Album</th>\n",
       "      <th>Disc Count Of Album</th>\n",
       "    </tr>\n",
       "  </thead>\n",
       "  <tbody>\n",
       "    <tr>\n",
       "      <th>1750</th>\n",
       "      <td>HYAENA</td>\n",
       "      <td>1</td>\n",
       "      <td>19</td>\n",
       "      <td>1</td>\n",
       "      <td>1</td>\n",
       "    </tr>\n",
       "    <tr>\n",
       "      <th>1751</th>\n",
       "      <td>THANK GOD</td>\n",
       "      <td>2</td>\n",
       "      <td>19</td>\n",
       "      <td>1</td>\n",
       "      <td>1</td>\n",
       "    </tr>\n",
       "    <tr>\n",
       "      <th>1752</th>\n",
       "      <td>MODERN JAM (feat. Teezo Touchdown)</td>\n",
       "      <td>3</td>\n",
       "      <td>19</td>\n",
       "      <td>1</td>\n",
       "      <td>1</td>\n",
       "    </tr>\n",
       "    <tr>\n",
       "      <th>1753</th>\n",
       "      <td>MY EYES</td>\n",
       "      <td>4</td>\n",
       "      <td>19</td>\n",
       "      <td>1</td>\n",
       "      <td>1</td>\n",
       "    </tr>\n",
       "    <tr>\n",
       "      <th>1754</th>\n",
       "      <td>GOD'S COUNTRY</td>\n",
       "      <td>5</td>\n",
       "      <td>19</td>\n",
       "      <td>1</td>\n",
       "      <td>1</td>\n",
       "    </tr>\n",
       "    <tr>\n",
       "      <th>1755</th>\n",
       "      <td>SIRENS</td>\n",
       "      <td>6</td>\n",
       "      <td>19</td>\n",
       "      <td>1</td>\n",
       "      <td>1</td>\n",
       "    </tr>\n",
       "    <tr>\n",
       "      <th>1756</th>\n",
       "      <td>MELTDOWN (feat. Drake)</td>\n",
       "      <td>7</td>\n",
       "      <td>19</td>\n",
       "      <td>1</td>\n",
       "      <td>1</td>\n",
       "    </tr>\n",
       "    <tr>\n",
       "      <th>1757</th>\n",
       "      <td>FE!N (feat. Playboi Carti)</td>\n",
       "      <td>8</td>\n",
       "      <td>19</td>\n",
       "      <td>1</td>\n",
       "      <td>1</td>\n",
       "    </tr>\n",
       "    <tr>\n",
       "      <th>1758</th>\n",
       "      <td>DELRESTO (ECHOES) [feat. Beyoncé]</td>\n",
       "      <td>9</td>\n",
       "      <td>19</td>\n",
       "      <td>1</td>\n",
       "      <td>1</td>\n",
       "    </tr>\n",
       "    <tr>\n",
       "      <th>1759</th>\n",
       "      <td>I KNOW ?</td>\n",
       "      <td>10</td>\n",
       "      <td>19</td>\n",
       "      <td>1</td>\n",
       "      <td>1</td>\n",
       "    </tr>\n",
       "    <tr>\n",
       "      <th>1760</th>\n",
       "      <td>TOPIA TWINS (feat. Rob49 &amp; 21 Savage)</td>\n",
       "      <td>11</td>\n",
       "      <td>19</td>\n",
       "      <td>1</td>\n",
       "      <td>1</td>\n",
       "    </tr>\n",
       "    <tr>\n",
       "      <th>1761</th>\n",
       "      <td>CIRCUS MAXIMUS (feat. The Weeknd &amp; Swae Lee)</td>\n",
       "      <td>12</td>\n",
       "      <td>19</td>\n",
       "      <td>1</td>\n",
       "      <td>1</td>\n",
       "    </tr>\n",
       "    <tr>\n",
       "      <th>1762</th>\n",
       "      <td>PARASAIL (feat. Yung Lean &amp; Dave Chappelle)</td>\n",
       "      <td>13</td>\n",
       "      <td>19</td>\n",
       "      <td>1</td>\n",
       "      <td>1</td>\n",
       "    </tr>\n",
       "    <tr>\n",
       "      <th>1763</th>\n",
       "      <td>SKITZO (feat. Young Thug)</td>\n",
       "      <td>14</td>\n",
       "      <td>19</td>\n",
       "      <td>1</td>\n",
       "      <td>1</td>\n",
       "    </tr>\n",
       "    <tr>\n",
       "      <th>1764</th>\n",
       "      <td>LOST FOREVER (feat. Westside Gunn)</td>\n",
       "      <td>15</td>\n",
       "      <td>19</td>\n",
       "      <td>1</td>\n",
       "      <td>1</td>\n",
       "    </tr>\n",
       "    <tr>\n",
       "      <th>1765</th>\n",
       "      <td>LOOOVE (feat. Kid Cudi)</td>\n",
       "      <td>16</td>\n",
       "      <td>19</td>\n",
       "      <td>1</td>\n",
       "      <td>1</td>\n",
       "    </tr>\n",
       "    <tr>\n",
       "      <th>1766</th>\n",
       "      <td>K-POP (feat. Bad Bunny &amp; The Weeknd)</td>\n",
       "      <td>17</td>\n",
       "      <td>19</td>\n",
       "      <td>1</td>\n",
       "      <td>1</td>\n",
       "    </tr>\n",
       "    <tr>\n",
       "      <th>1767</th>\n",
       "      <td>TELEKINESIS (feat. SZA &amp; Future)</td>\n",
       "      <td>18</td>\n",
       "      <td>19</td>\n",
       "      <td>1</td>\n",
       "      <td>1</td>\n",
       "    </tr>\n",
       "    <tr>\n",
       "      <th>1768</th>\n",
       "      <td>TIL FURTHER NOTICE (feat. James Blake &amp; 21 Sav...</td>\n",
       "      <td>19</td>\n",
       "      <td>19</td>\n",
       "      <td>1</td>\n",
       "      <td>1</td>\n",
       "    </tr>\n",
       "  </tbody>\n",
       "</table>\n",
       "</div>"
      ],
      "text/plain": [
       "                                                  Title  \\\n",
       "1750                                             HYAENA   \n",
       "1751                                          THANK GOD   \n",
       "1752                 MODERN JAM (feat. Teezo Touchdown)   \n",
       "1753                                            MY EYES   \n",
       "1754                                      GOD'S COUNTRY   \n",
       "1755                                             SIRENS   \n",
       "1756                             MELTDOWN (feat. Drake)   \n",
       "1757                         FE!N (feat. Playboi Carti)   \n",
       "1758                  DELRESTO (ECHOES) [feat. Beyoncé]   \n",
       "1759                                           I KNOW ?   \n",
       "1760              TOPIA TWINS (feat. Rob49 & 21 Savage)   \n",
       "1761       CIRCUS MAXIMUS (feat. The Weeknd & Swae Lee)   \n",
       "1762        PARASAIL (feat. Yung Lean & Dave Chappelle)   \n",
       "1763                          SKITZO (feat. Young Thug)   \n",
       "1764                 LOST FOREVER (feat. Westside Gunn)   \n",
       "1765                            LOOOVE (feat. Kid Cudi)   \n",
       "1766               K-POP (feat. Bad Bunny & The Weeknd)   \n",
       "1767                   TELEKINESIS (feat. SZA & Future)   \n",
       "1768  TIL FURTHER NOTICE (feat. James Blake & 21 Sav...   \n",
       "\n",
       "      Track Number On Album  Track Count On Album  Disc Number Of Album  \\\n",
       "1750                      1                    19                     1   \n",
       "1751                      2                    19                     1   \n",
       "1752                      3                    19                     1   \n",
       "1753                      4                    19                     1   \n",
       "1754                      5                    19                     1   \n",
       "1755                      6                    19                     1   \n",
       "1756                      7                    19                     1   \n",
       "1757                      8                    19                     1   \n",
       "1758                      9                    19                     1   \n",
       "1759                     10                    19                     1   \n",
       "1760                     11                    19                     1   \n",
       "1761                     12                    19                     1   \n",
       "1762                     13                    19                     1   \n",
       "1763                     14                    19                     1   \n",
       "1764                     15                    19                     1   \n",
       "1765                     16                    19                     1   \n",
       "1766                     17                    19                     1   \n",
       "1767                     18                    19                     1   \n",
       "1768                     19                    19                     1   \n",
       "\n",
       "      Disc Count Of Album  \n",
       "1750                    1  \n",
       "1751                    1  \n",
       "1752                    1  \n",
       "1753                    1  \n",
       "1754                    1  \n",
       "1755                    1  \n",
       "1756                    1  \n",
       "1757                    1  \n",
       "1758                    1  \n",
       "1759                    1  \n",
       "1760                    1  \n",
       "1761                    1  \n",
       "1762                    1  \n",
       "1763                    1  \n",
       "1764                    1  \n",
       "1765                    1  \n",
       "1766                    1  \n",
       "1767                    1  \n",
       "1768                    1  "
      ]
     },
     "execution_count": 40,
     "metadata": {},
     "output_type": "execute_result"
    }
   ],
   "source": [
    "utopia_df[['Title', 'Track Number On Album', 'Track Count On Album', 'Disc Number Of Album', 'Disc Count Of Album']]"
   ]
  },
  {
   "cell_type": "code",
   "execution_count": null,
   "metadata": {},
   "outputs": [],
   "source": [
    "df['Track Number On Album'].isna().sum(), df['Track Count On Album'].isna().sum(), df['Disc Number Of Album'].isna().sum(), df['Disc Count Of Album'].isna().sum()"
   ]
  },
  {
   "cell_type": "code",
   "execution_count": 29,
   "metadata": {},
   "outputs": [],
   "source": [
    "df['Track Number On Album'] = df['Track Number On Album'].astype('Int64')\n",
    "df['Track Count On Album'] = df['Track Count On Album'].astype('Int64')\n",
    "df['Disc Count Of Album'] = df['Disc Count Of Album'].astype('Int64')\n",
    "df['Disc Number Of Album'] = df['Disc Number Of Album'].astype('Int64')"
   ]
  },
  {
   "cell_type": "code",
   "execution_count": 38,
   "metadata": {},
   "outputs": [
    {
     "data": {
      "text/plain": [
       "(14, 14, 14, 14)"
      ]
     },
     "execution_count": 38,
     "metadata": {},
     "output_type": "execute_result"
    }
   ],
   "source": [
    "df['Track Number On Album'].isna().sum(), df['Track Count On Album'].isna().sum(), df['Disc Number Of Album'].isna().sum(), df['Disc Count Of Album'].isna().sum()"
   ]
  },
  {
   "cell_type": "code",
   "execution_count": 41,
   "metadata": {},
   "outputs": [
    {
     "data": {
      "text/plain": [
       "0    182857262\n",
       "1    182857266\n",
       "2    182857270\n",
       "3    182857474\n",
       "4    182857478\n",
       "Name: Track Identifier, dtype: int64"
      ]
     },
     "execution_count": 41,
     "metadata": {},
     "output_type": "execute_result"
    }
   ],
   "source": [
    "df['Track Duration'].isna().sum()"
   ]
  },
  {
   "cell_type": "code",
   "execution_count": 47,
   "metadata": {},
   "outputs": [
    {
     "data": {
      "text/html": [
       "<div>\n",
       "<style scoped>\n",
       "    .dataframe tbody tr th:only-of-type {\n",
       "        vertical-align: middle;\n",
       "    }\n",
       "\n",
       "    .dataframe tbody tr th {\n",
       "        vertical-align: top;\n",
       "    }\n",
       "\n",
       "    .dataframe thead th {\n",
       "        text-align: right;\n",
       "    }\n",
       "</style>\n",
       "<table border=\"1\" class=\"dataframe\">\n",
       "  <thead>\n",
       "    <tr style=\"text-align: right;\">\n",
       "      <th></th>\n",
       "      <th>Title</th>\n",
       "      <th>Track Number On Album</th>\n",
       "      <th>Track Count On Album</th>\n",
       "      <th>Disc Number Of Album</th>\n",
       "      <th>Disc Count Of Album</th>\n",
       "    </tr>\n",
       "  </thead>\n",
       "  <tbody>\n",
       "    <tr>\n",
       "      <th>451</th>\n",
       "      <td>Travis Scott  INTERSTELLAR ft Frank Ocean Hans...</td>\n",
       "      <td>0</td>\n",
       "      <td>0</td>\n",
       "      <td>0</td>\n",
       "      <td>0</td>\n",
       "    </tr>\n",
       "    <tr>\n",
       "      <th>452</th>\n",
       "      <td>INTERSTELLAR</td>\n",
       "      <td>0</td>\n",
       "      <td>0</td>\n",
       "      <td>0</td>\n",
       "      <td>0</td>\n",
       "    </tr>\n",
       "    <tr>\n",
       "      <th>453</th>\n",
       "      <td>goosebumps (Time Remix)</td>\n",
       "      <td>0</td>\n",
       "      <td>0</td>\n",
       "      <td>0</td>\n",
       "      <td>0</td>\n",
       "    </tr>\n",
       "    <tr>\n",
       "      <th>731</th>\n",
       "      <td>WhatsApp Audio 2021-11-25 at 7.05.22 PM</td>\n",
       "      <td>0</td>\n",
       "      <td>0</td>\n",
       "      <td>0</td>\n",
       "      <td>0</td>\n",
       "    </tr>\n",
       "    <tr>\n",
       "      <th>864</th>\n",
       "      <td>Never Say Goodbye</td>\n",
       "      <td>0</td>\n",
       "      <td>0</td>\n",
       "      <td>0</td>\n",
       "      <td>0</td>\n",
       "    </tr>\n",
       "    <tr>\n",
       "      <th>...</th>\n",
       "      <td>...</td>\n",
       "      <td>...</td>\n",
       "      <td>...</td>\n",
       "      <td>...</td>\n",
       "      <td>...</td>\n",
       "    </tr>\n",
       "    <tr>\n",
       "      <th>1833</th>\n",
       "      <td>Boppenheimer (Aaron Hibell Trance Extended Mix)</td>\n",
       "      <td>0</td>\n",
       "      <td>0</td>\n",
       "      <td>0</td>\n",
       "      <td>0</td>\n",
       "    </tr>\n",
       "    <tr>\n",
       "      <th>1835</th>\n",
       "      <td>Oppenheimer X Interstellar EMOTIONAL VERSION (...</td>\n",
       "      <td>0</td>\n",
       "      <td>0</td>\n",
       "      <td>0</td>\n",
       "      <td>0</td>\n",
       "    </tr>\n",
       "    <tr>\n",
       "      <th>1836</th>\n",
       "      <td>Interstellar Theme EPIC Version [TubeRipper.com]</td>\n",
       "      <td>0</td>\n",
       "      <td>0</td>\n",
       "      <td>0</td>\n",
       "      <td>0</td>\n",
       "    </tr>\n",
       "    <tr>\n",
       "      <th>1843</th>\n",
       "      <td>hibell-glued-2-deep-in-time-aaron-hibell-edit_...</td>\n",
       "      <td>0</td>\n",
       "      <td>0</td>\n",
       "      <td>0</td>\n",
       "      <td>0</td>\n",
       "    </tr>\n",
       "    <tr>\n",
       "      <th>2253</th>\n",
       "      <td>b378992f203f4ed994d90a84c2169c83.HD-1080p-2.5M...</td>\n",
       "      <td>0</td>\n",
       "      <td>0</td>\n",
       "      <td>0</td>\n",
       "      <td>0</td>\n",
       "    </tr>\n",
       "  </tbody>\n",
       "</table>\n",
       "<p>68 rows × 5 columns</p>\n",
       "</div>"
      ],
      "text/plain": [
       "                                                  Title  \\\n",
       "451   Travis Scott  INTERSTELLAR ft Frank Ocean Hans...   \n",
       "452                                        INTERSTELLAR   \n",
       "453                             goosebumps (Time Remix)   \n",
       "731             WhatsApp Audio 2021-11-25 at 7.05.22 PM   \n",
       "864                                   Never Say Goodbye   \n",
       "...                                                 ...   \n",
       "1833    Boppenheimer (Aaron Hibell Trance Extended Mix)   \n",
       "1835  Oppenheimer X Interstellar EMOTIONAL VERSION (...   \n",
       "1836   Interstellar Theme EPIC Version [TubeRipper.com]   \n",
       "1843  hibell-glued-2-deep-in-time-aaron-hibell-edit_...   \n",
       "2253  b378992f203f4ed994d90a84c2169c83.HD-1080p-2.5M...   \n",
       "\n",
       "      Track Number On Album  Track Count On Album  Disc Number Of Album  \\\n",
       "451                       0                     0                     0   \n",
       "452                       0                     0                     0   \n",
       "453                       0                     0                     0   \n",
       "731                       0                     0                     0   \n",
       "864                       0                     0                     0   \n",
       "...                     ...                   ...                   ...   \n",
       "1833                      0                     0                     0   \n",
       "1835                      0                     0                     0   \n",
       "1836                      0                     0                     0   \n",
       "1843                      0                     0                     0   \n",
       "2253                      0                     0                     0   \n",
       "\n",
       "      Disc Count Of Album  \n",
       "451                     0  \n",
       "452                     0  \n",
       "453                     0  \n",
       "731                     0  \n",
       "864                     0  \n",
       "...                   ...  \n",
       "1833                    0  \n",
       "1835                    0  \n",
       "1836                    0  \n",
       "1843                    0  \n",
       "2253                    0  \n",
       "\n",
       "[68 rows x 5 columns]"
      ]
     },
     "execution_count": 47,
     "metadata": {},
     "output_type": "execute_result"
    }
   ],
   "source": [
    "df[df['Track Number On Album']==0][['Title', 'Track Number On Album', 'Track Count On Album', 'Disc Number Of Album', 'Disc Count Of Album']]"
   ]
  },
  {
   "cell_type": "code",
   "execution_count": 48,
   "metadata": {},
   "outputs": [
    {
     "data": {
      "text/plain": [
       "222085.0"
      ]
     },
     "execution_count": 48,
     "metadata": {},
     "output_type": "execute_result"
    }
   ],
   "source": [
    "df.iloc[min_index]['Track Duration']"
   ]
  },
  {
   "cell_type": "code",
   "execution_count": 49,
   "metadata": {},
   "outputs": [
    {
     "data": {
      "text/plain": [
       "Is Checked\n",
       "False    2761\n",
       "Name: count, dtype: int64"
      ]
     },
     "execution_count": 49,
     "metadata": {},
     "output_type": "execute_result"
    }
   ],
   "source": [
    "df['Is Checked'].value_counts()"
   ]
  },
  {
   "cell_type": "code",
   "execution_count": 50,
   "metadata": {},
   "outputs": [
    {
     "data": {
      "text/plain": [
       "Beats Per Minute\n",
       "0.0      81\n",
       "125.0     4\n",
       "124.0     3\n",
       "128.0     1\n",
       "130.0     1\n",
       "158.0     1\n",
       "126.0     1\n",
       "Name: count, dtype: int64"
      ]
     },
     "execution_count": 50,
     "metadata": {},
     "output_type": "execute_result"
    }
   ],
   "source": [
    "df['Beats Per Minute'].value_counts()"
   ]
  },
  {
   "cell_type": "code",
   "execution_count": 51,
   "metadata": {},
   "outputs": [
    {
     "data": {
      "text/plain": [
       "2669"
      ]
     },
     "execution_count": 51,
     "metadata": {},
     "output_type": "execute_result"
    }
   ],
   "source": [
    "df['Beats Per Minute'].isna().sum()"
   ]
  },
  {
   "cell_type": "code",
   "execution_count": 52,
   "metadata": {},
   "outputs": [
    {
     "data": {
      "text/plain": [
       "99"
      ]
     },
     "execution_count": 52,
     "metadata": {},
     "output_type": "execute_result"
    }
   ],
   "source": [
    "df['Purchased Track Identifier'].isna().sum()"
   ]
  },
  {
   "cell_type": "code",
   "execution_count": 53,
   "metadata": {},
   "outputs": [
    {
     "data": {
      "text/plain": [
       "451     Travis Scott  INTERSTELLAR ft Frank Ocean Hans...\n",
       "452                                          INTERSTELLAR\n",
       "453                               goosebumps (Time Remix)\n",
       "731               WhatsApp Audio 2021-11-25 at 7.05.22 PM\n",
       "864                                     Never Say Goodbye\n",
       "                              ...                        \n",
       "2143                                          PROBLEMATIC\n",
       "2144                                                 KING\n",
       "2250                                       7 Minute Drill\n",
       "2251        Taylor Made Freestyle (feat 2Pac, Snoop Dogg)\n",
       "2253    b378992f203f4ed994d90a84c2169c83.HD-1080p-2.5M...\n",
       "Name: Title, Length: 99, dtype: object"
      ]
     },
     "execution_count": 53,
     "metadata": {},
     "output_type": "execute_result"
    }
   ],
   "source": [
    "df[df['Purchased Track Identifier'].isna()]['Title']    "
   ]
  },
  {
   "cell_type": "code",
   "execution_count": 54,
   "metadata": {},
   "outputs": [
    {
     "data": {
      "text/plain": [
       "84"
      ]
     },
     "execution_count": 54,
     "metadata": {},
     "output_type": "execute_result"
    }
   ],
   "source": [
    "df['Apple Music Track Identifier'].isna().sum()"
   ]
  },
  {
   "cell_type": "code",
   "execution_count": 55,
   "metadata": {},
   "outputs": [
    {
     "data": {
      "text/plain": [
       "451     Travis Scott  INTERSTELLAR ft Frank Ocean Hans...\n",
       "452                                          INTERSTELLAR\n",
       "453                               goosebumps (Time Remix)\n",
       "731               WhatsApp Audio 2021-11-25 at 7.05.22 PM\n",
       "864                                     Never Say Goodbye\n",
       "                              ...                        \n",
       "2143                                          PROBLEMATIC\n",
       "2144                                                 KING\n",
       "2250                                       7 Minute Drill\n",
       "2251        Taylor Made Freestyle (feat 2Pac, Snoop Dogg)\n",
       "2253    b378992f203f4ed994d90a84c2169c83.HD-1080p-2.5M...\n",
       "Name: Title, Length: 84, dtype: object"
      ]
     },
     "execution_count": 55,
     "metadata": {},
     "output_type": "execute_result"
    }
   ],
   "source": [
    "df[df['Apple Music Track Identifier'].isna()]['Title']"
   ]
  },
  {
   "cell_type": "code",
   "execution_count": 61,
   "metadata": {},
   "outputs": [
    {
     "data": {
      "text/plain": [
       "Track Like Rating\n",
       "liked        203\n",
       "none          85\n",
       "undefined     10\n",
       "Name: count, dtype: int64"
      ]
     },
     "execution_count": 61,
     "metadata": {},
     "output_type": "execute_result"
    }
   ],
   "source": [
    "df['Track Like Rating'].value_counts()"
   ]
  },
  {
   "cell_type": "code",
   "execution_count": 63,
   "metadata": {},
   "outputs": [
    {
     "data": {
      "text/plain": [
       "106                                           Sunday Best\n",
       "128                                              Papa Hai\n",
       "203                                              Mask Off\n",
       "204               Mask Off (Remix) [feat. Kendrick Lamar]\n",
       "248                                  Hollywood's Bleeding\n",
       "                              ...                        \n",
       "2251        Taylor Made Freestyle (feat 2Pac, Snoop Dogg)\n",
       "2253    b378992f203f4ed994d90a84c2169c83.HD-1080p-2.5M...\n",
       "2576                                             Hey Jude\n",
       "2580                                              TORE UP\n",
       "2694                                          Millionaire\n",
       "Name: Title, Length: 85, dtype: object"
      ]
     },
     "execution_count": 63,
     "metadata": {},
     "output_type": "execute_result"
    }
   ],
   "source": [
    "df[df['Track Like Rating'] == 'none']['Title']"
   ]
  },
  {
   "cell_type": "code",
   "execution_count": 64,
   "metadata": {},
   "outputs": [
    {
     "data": {
      "text/plain": [
       "Favorite Status - Track\n",
       "True    203\n",
       "Name: count, dtype: int64"
      ]
     },
     "execution_count": 64,
     "metadata": {},
     "output_type": "execute_result"
    }
   ],
   "source": [
    "df['Favorite Status - Track'].value_counts()"
   ]
  },
  {
   "cell_type": "code",
   "execution_count": 65,
   "metadata": {},
   "outputs": [
    {
     "data": {
      "text/plain": [
       "2565"
      ]
     },
     "execution_count": 65,
     "metadata": {},
     "output_type": "execute_result"
    }
   ],
   "source": [
    "df['Favorite Date - Track'].isna().sum()"
   ]
  },
  {
   "cell_type": "code",
   "execution_count": 66,
   "metadata": {},
   "outputs": [
    {
     "data": {
      "text/plain": [
       "Favorite Date - Track\n",
       "2024-05-30T19:05:54Z    1\n",
       "2023-11-06T05:33:20Z    1\n",
       "2023-06-10T09:39:14Z    1\n",
       "2022-11-17T11:01:51Z    1\n",
       "2022-11-17T11:05:54Z    1\n",
       "                       ..\n",
       "2023-04-10T19:40:50Z    1\n",
       "2023-09-30T22:10:32Z    1\n",
       "2024-05-22T03:07:41Z    1\n",
       "2024-01-01T05:08:43Z    1\n",
       "2024-09-24T20:48:16Z    1\n",
       "Name: count, Length: 196, dtype: int64"
      ]
     },
     "execution_count": 66,
     "metadata": {},
     "output_type": "execute_result"
    }
   ],
   "source": [
    "df['Favorite Date - Track'].value_counts()"
   ]
  },
  {
   "cell_type": "code",
   "execution_count": 67,
   "metadata": {},
   "outputs": [
    {
     "data": {
      "text/plain": [
       "Album Like Rating\n",
       "none         115\n",
       "liked         28\n",
       "undefined     10\n",
       "Name: count, dtype: int64"
      ]
     },
     "execution_count": 67,
     "metadata": {},
     "output_type": "execute_result"
    }
   ],
   "source": [
    "df['Album Like Rating'].value_counts()"
   ]
  },
  {
   "cell_type": "code",
   "execution_count": 68,
   "metadata": {},
   "outputs": [
    {
     "data": {
      "text/plain": [
       "56              Vaaqif\n",
       "60              Vaaqif\n",
       "61              Vaaqif\n",
       "62              Vaaqif\n",
       "64              Vaaqif\n",
       "65              Vaaqif\n",
       "66              Vaaqif\n",
       "67              Vaaqif\n",
       "71              Vaaqif\n",
       "72              Vaaqif\n",
       "1424    Quest For Fire\n",
       "1425    Quest For Fire\n",
       "1426    Quest For Fire\n",
       "1427    Quest For Fire\n",
       "1428    Quest For Fire\n",
       "1429    Quest For Fire\n",
       "1430    Quest For Fire\n",
       "1431    Quest For Fire\n",
       "1432    Quest For Fire\n",
       "1433    Quest For Fire\n",
       "1434    Quest For Fire\n",
       "1435    Quest For Fire\n",
       "1436    Quest For Fire\n",
       "1514    Quest For Fire\n",
       "1515    Quest For Fire\n",
       "1516    Quest For Fire\n",
       "1517    Quest For Fire\n",
       "1686    Quest For Fire\n",
       "Name: Album, dtype: object"
      ]
     },
     "execution_count": 68,
     "metadata": {},
     "output_type": "execute_result"
    }
   ],
   "source": [
    "df[df['Album Like Rating'] == 'liked']['Album']"
   ]
  },
  {
   "cell_type": "code",
   "execution_count": 72,
   "metadata": {},
   "outputs": [
    {
     "data": {
      "text/plain": [
       "56              Vaaqif\n",
       "60              Vaaqif\n",
       "61              Vaaqif\n",
       "62              Vaaqif\n",
       "64              Vaaqif\n",
       "65              Vaaqif\n",
       "66              Vaaqif\n",
       "67              Vaaqif\n",
       "71              Vaaqif\n",
       "72              Vaaqif\n",
       "1424    Quest For Fire\n",
       "1425    Quest For Fire\n",
       "1426    Quest For Fire\n",
       "1427    Quest For Fire\n",
       "1428    Quest For Fire\n",
       "1429    Quest For Fire\n",
       "1430    Quest For Fire\n",
       "1431    Quest For Fire\n",
       "1432    Quest For Fire\n",
       "1433    Quest For Fire\n",
       "1434    Quest For Fire\n",
       "1435    Quest For Fire\n",
       "1436    Quest For Fire\n",
       "1514    Quest For Fire\n",
       "1515    Quest For Fire\n",
       "1516    Quest For Fire\n",
       "1517    Quest For Fire\n",
       "1686    Quest For Fire\n",
       "Name: Album, dtype: object"
      ]
     },
     "execution_count": 72,
     "metadata": {},
     "output_type": "execute_result"
    }
   ],
   "source": [
    "df[df['Favorite Status - Album'] == True]['Album']"
   ]
  },
  {
   "cell_type": "code",
   "execution_count": 73,
   "metadata": {},
   "outputs": [
    {
     "data": {
      "text/plain": [
       "Grouping\n",
       "                90\n",
       "3 Are Legend     1\n",
       "Lost Demos       1\n",
       "Side A           1\n",
       "MOON MUSiC       1\n",
       "Name: count, dtype: int64"
      ]
     },
     "execution_count": 73,
     "metadata": {},
     "output_type": "execute_result"
    }
   ],
   "source": [
    "df['Grouping'].value_counts()"
   ]
  },
  {
   "cell_type": "code",
   "execution_count": 74,
   "metadata": {},
   "outputs": [
    {
     "data": {
      "text/plain": [
       "Comments\n",
       "                                  87\n",
       "Downloaded from RnBXclusive.se     1\n",
       "www.livingelectro.com              1\n",
       "Nitr0n                             1\n",
       "www.Sarzamin.org                   1\n",
       "Downloaded from Arewamh.com.ng     1\n",
       "Name: count, dtype: int64"
      ]
     },
     "execution_count": 74,
     "metadata": {},
     "output_type": "execute_result"
    }
   ],
   "source": [
    "df['Comments'].value_counts()"
   ]
  },
  {
   "cell_type": "code",
   "execution_count": 75,
   "metadata": {},
   "outputs": [
    {
     "data": {
      "text/plain": [
       "Rating\n",
       "0.0      117\n",
       "100.0      1\n",
       "Name: count, dtype: int64"
      ]
     },
     "execution_count": 75,
     "metadata": {},
     "output_type": "execute_result"
    }
   ],
   "source": [
    "df['Rating'].value_counts()"
   ]
  },
  {
   "cell_type": "code",
   "execution_count": 76,
   "metadata": {},
   "outputs": [
    {
     "data": {
      "text/plain": [
       "2643"
      ]
     },
     "execution_count": 76,
     "metadata": {},
     "output_type": "execute_result"
    }
   ],
   "source": [
    "df['Rating'].isna().sum()"
   ]
  },
  {
   "cell_type": "code",
   "execution_count": 77,
   "metadata": {},
   "outputs": [
    {
     "data": {
      "text/plain": [
       "Album Rating\n",
       "0.0      106\n",
       "100.0     12\n",
       "Name: count, dtype: int64"
      ]
     },
     "execution_count": 77,
     "metadata": {},
     "output_type": "execute_result"
    }
   ],
   "source": [
    "df['Album Rating'].value_counts()"
   ]
  },
  {
   "cell_type": "code",
   "execution_count": 78,
   "metadata": {},
   "outputs": [
    {
     "data": {
      "text/plain": [
       "1424                                    Rumble\n",
       "1427                               Hazel Theme\n",
       "1428                 Supersonic (my existence)\n",
       "1429                                Good Space\n",
       "1430                                   Hydrate\n",
       "1431                       TOO BIZARRE (juked)\n",
       "1432                           A Street I Know\n",
       "1433                               Butterflies\n",
       "1434                                     Tears\n",
       "1435                                    RATATA\n",
       "1436                        Leave Me Like This\n",
       "1686    SKRILLEX - QUEST FOR FIRE Basement Set\n",
       "Name: Title, dtype: object"
      ]
     },
     "execution_count": 78,
     "metadata": {},
     "output_type": "execute_result"
    }
   ],
   "source": [
    "df[df['Album Rating'] == 100.0]['Title']  "
   ]
  },
  {
   "cell_type": "code",
   "execution_count": 79,
   "metadata": {},
   "outputs": [
    {
     "data": {
      "text/plain": [
       "Remember Playback Position\n",
       "False    107\n",
       "Name: count, dtype: int64"
      ]
     },
     "execution_count": 79,
     "metadata": {},
     "output_type": "execute_result"
    }
   ],
   "source": [
    "df['Remember Playback Position'].value_counts()"
   ]
  },
  {
   "cell_type": "code",
   "execution_count": 82,
   "metadata": {},
   "outputs": [],
   "source": [
    "df[df['Remember Playback Position'] == False]['Title'].to_csv('remember_playback_position_false.csv', index=False)"
   ]
  },
  {
   "cell_type": "code",
   "execution_count": 83,
   "metadata": {},
   "outputs": [
    {
     "data": {
      "text/plain": [
       "Album Rating Method\n",
       "Calculated    115\n",
       "Name: count, dtype: int64"
      ]
     },
     "execution_count": 83,
     "metadata": {},
     "output_type": "execute_result"
    }
   ],
   "source": [
    "df['Album Rating Method'].value_counts()"
   ]
  },
  {
   "cell_type": "code",
   "execution_count": 84,
   "metadata": {},
   "outputs": [
    {
     "data": {
      "text/plain": [
       "Work Name\n",
       "    91\n",
       "Name: count, dtype: int64"
      ]
     },
     "execution_count": 84,
     "metadata": {},
     "output_type": "execute_result"
    }
   ],
   "source": [
    "df['Work Name'].value_counts()"
   ]
  },
  {
   "cell_type": "code",
   "execution_count": 85,
   "metadata": {},
   "outputs": [
    {
     "data": {
      "text/plain": [
       "2670"
      ]
     },
     "execution_count": 85,
     "metadata": {},
     "output_type": "execute_result"
    }
   ],
   "source": [
    "df['Work Name'].isna().sum()"
   ]
  },
  {
   "cell_type": "code",
   "execution_count": 86,
   "metadata": {},
   "outputs": [
    {
     "data": {
      "text/plain": [
       "Movement Name\n",
       "    91\n",
       "Name: count, dtype: int64"
      ]
     },
     "execution_count": 86,
     "metadata": {},
     "output_type": "execute_result"
    }
   ],
   "source": [
    "df['Movement Name'].value_counts()"
   ]
  },
  {
   "cell_type": "code",
   "execution_count": 87,
   "metadata": {},
   "outputs": [
    {
     "data": {
      "text/plain": [
       "2670"
      ]
     },
     "execution_count": 87,
     "metadata": {},
     "output_type": "execute_result"
    }
   ],
   "source": [
    "df['Movement Name'].isna().sum()"
   ]
  },
  {
   "cell_type": "code",
   "execution_count": 88,
   "metadata": {},
   "outputs": [
    {
     "data": {
      "text/plain": [
       "Movement Number\n",
       "0.0    91\n",
       "Name: count, dtype: int64"
      ]
     },
     "execution_count": 88,
     "metadata": {},
     "output_type": "execute_result"
    }
   ],
   "source": [
    "df['Movement Number'].value_counts()"
   ]
  },
  {
   "cell_type": "code",
   "execution_count": 89,
   "metadata": {},
   "outputs": [
    {
     "data": {
      "text/plain": [
       "2670"
      ]
     },
     "execution_count": 89,
     "metadata": {},
     "output_type": "execute_result"
    }
   ],
   "source": [
    "df['Movement Number'].isna().sum()"
   ]
  },
  {
   "cell_type": "code",
   "execution_count": 90,
   "metadata": {},
   "outputs": [
    {
     "data": {
      "text/plain": [
       "0"
      ]
     },
     "execution_count": 90,
     "metadata": {},
     "output_type": "execute_result"
    }
   ],
   "source": [
    "df['Title'].isna().sum()"
   ]
  },
  {
   "cell_type": "code",
   "execution_count": 91,
   "metadata": {},
   "outputs": [
    {
     "data": {
      "text/plain": [
       "Playlist Only Track\n",
       "True     300\n",
       "False    173\n",
       "Name: count, dtype: int64"
      ]
     },
     "execution_count": 91,
     "metadata": {},
     "output_type": "execute_result"
    }
   ],
   "source": [
    "df['Playlist Only Track'].value_counts()"
   ]
  },
  {
   "cell_type": "code",
   "execution_count": 92,
   "metadata": {},
   "outputs": [
    {
     "data": {
      "text/plain": [
       "171                               2 Phút Hơn (KAIZ Remix)\n",
       "172                                                  UCLA\n",
       "173                        I Don't Like (feat. Lil Reese)\n",
       "175     Everytime We Touch (Hardwell & Maurice West Re...\n",
       "176                       Everytime We Touch (Radio Edit)\n",
       "                              ...                        \n",
       "2572                                        Pump It (D&B)\n",
       "2573                                        Big City Life\n",
       "2574                          Trigga Finga (feat. Trigga)\n",
       "2575                       Laserbeam (Blanke's ÆON:REMIX)\n",
       "2650                         Arjan Vailly (From \"Animal\")\n",
       "Name: Title, Length: 300, dtype: object"
      ]
     },
     "execution_count": 92,
     "metadata": {},
     "output_type": "execute_result"
    }
   ],
   "source": [
    "df[df['Playlist Only Track'] == True]['Title']"
   ]
  },
  {
   "cell_type": "code",
   "execution_count": 93,
   "metadata": {},
   "outputs": [
    {
     "data": {
      "text/plain": [
       "2750"
      ]
     },
     "execution_count": 93,
     "metadata": {},
     "output_type": "execute_result"
    }
   ],
   "source": [
    "df['Sort Album Artist'].isna().sum()"
   ]
  },
  {
   "cell_type": "code",
   "execution_count": 94,
   "metadata": {},
   "outputs": [
    {
     "data": {
      "text/plain": [
       "Sort Album Artist\n",
       "Hardwell    8\n",
       "Beatles     2\n",
       "Czars       1\n",
       "Name: count, dtype: int64"
      ]
     },
     "execution_count": 94,
     "metadata": {},
     "output_type": "execute_result"
    }
   ],
   "source": [
    "df['Sort Album Artist'].value_counts()"
   ]
  },
  {
   "cell_type": "code",
   "execution_count": 95,
   "metadata": {},
   "outputs": [
    {
     "data": {
      "text/plain": [
       "2654"
      ]
     },
     "execution_count": 95,
     "metadata": {},
     "output_type": "execute_result"
    }
   ],
   "source": [
    "df['Display Work Name'].isna().sum()"
   ]
  },
  {
   "cell_type": "code",
   "execution_count": 96,
   "metadata": {},
   "outputs": [
    {
     "data": {
      "text/plain": [
       "Display Work Name\n",
       "False    107\n",
       "Name: count, dtype: int64"
      ]
     },
     "execution_count": 96,
     "metadata": {},
     "output_type": "execute_result"
    }
   ],
   "source": [
    "df['Display Work Name'].value_counts()"
   ]
  },
  {
   "cell_type": "code",
   "execution_count": 97,
   "metadata": {},
   "outputs": [
    {
     "data": {
      "text/plain": [
       "2759"
      ]
     },
     "execution_count": 97,
     "metadata": {},
     "output_type": "execute_result"
    }
   ],
   "source": [
    "df['Tag Matched Track Identifier'].isna().sum()"
   ]
  },
  {
   "cell_type": "code",
   "execution_count": 98,
   "metadata": {},
   "outputs": [
    {
     "data": {
      "text/plain": [
       "Tag Matched Track Identifier\n",
       "717138782.0    1\n",
       "724224735.0    1\n",
       "Name: count, dtype: int64"
      ]
     },
     "execution_count": 98,
     "metadata": {},
     "output_type": "execute_result"
    }
   ],
   "source": [
    "df['Tag Matched Track Identifier'].value_counts()"
   ]
  },
  {
   "cell_type": "code",
   "execution_count": null,
   "metadata": {},
   "outputs": [],
   "source": []
  }
 ],
 "metadata": {
  "kernelspec": {
   "display_name": "airflow",
   "language": "python",
   "name": "python3"
  },
  "language_info": {
   "codemirror_mode": {
    "name": "ipython",
    "version": 3
   },
   "file_extension": ".py",
   "mimetype": "text/x-python",
   "name": "python",
   "nbconvert_exporter": "python",
   "pygments_lexer": "ipython3",
   "version": "3.11.5"
  }
 },
 "nbformat": 4,
 "nbformat_minor": 2
}
