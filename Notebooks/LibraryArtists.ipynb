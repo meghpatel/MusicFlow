{
 "cells": [
  {
   "cell_type": "code",
   "execution_count": 2,
   "metadata": {},
   "outputs": [],
   "source": [
    "import os\n",
    "import json\n",
    "import pyperclip\n",
    "import pandas as pd"
   ]
  },
  {
   "cell_type": "code",
   "execution_count": 3,
   "metadata": {},
   "outputs": [],
   "source": [
    "DATA_PATH = os.path.join('../Apple Music Activity')\n",
    "FILE_NAME = 'Apple Music Library Artists.json'\n",
    "DOCS_PATH = os.path.join('../docs/Library')\n",
    "DOC_NAME = 'LIBRARY_ARTISTS.md'"
   ]
  },
  {
   "cell_type": "code",
   "execution_count": 4,
   "metadata": {},
   "outputs": [],
   "source": [
    "with open(os.path.join(DATA_PATH, FILE_NAME), 'r') as f:\n",
    "    library = json.load(f)"
   ]
  },
  {
   "cell_type": "code",
   "execution_count": 5,
   "metadata": {},
   "outputs": [
    {
     "data": {
      "text/plain": [
       "(1015, list)"
      ]
     },
     "execution_count": 5,
     "metadata": {},
     "output_type": "execute_result"
    }
   ],
   "source": [
    "len(library), type(library)"
   ]
  },
  {
   "cell_type": "code",
   "execution_count": 6,
   "metadata": {},
   "outputs": [
    {
     "data": {
      "text/plain": [
       "dict_keys(['Artist Identifier', 'Artist Name', 'Date Created', 'Date Created In Library', 'Visible', 'Catalog Identifiers - Artist', 'Favorite Artist - Status', 'Favorite Artist - Date'])"
      ]
     },
     "execution_count": 6,
     "metadata": {},
     "output_type": "execute_result"
    }
   ],
   "source": [
    "library[0].keys()"
   ]
  },
  {
   "cell_type": "code",
   "execution_count": 7,
   "metadata": {},
   "outputs": [
    {
     "data": {
      "text/plain": [
       "{5, 6, 8}"
      ]
     },
     "execution_count": 7,
     "metadata": {},
     "output_type": "execute_result"
    }
   ],
   "source": [
    "keys_set = set()\n",
    "for item in library:\n",
    "    keys_set.add(len(item.keys()))\n",
    "keys_set"
   ]
  },
  {
   "cell_type": "code",
   "execution_count": 8,
   "metadata": {},
   "outputs": [
    {
     "data": {
      "text/plain": [
       "{bool, str}"
      ]
     },
     "execution_count": 8,
     "metadata": {},
     "output_type": "execute_result"
    }
   ],
   "source": [
    "types_set = set()\n",
    "for item in library:\n",
    "    for key in item.keys():\n",
    "        types_set.add(type(item[key]))\n",
    "        \n",
    "types_set"
   ]
  },
  {
   "cell_type": "code",
   "execution_count": 9,
   "metadata": {},
   "outputs": [],
   "source": [
    "df = pd.DataFrame(library)"
   ]
  },
  {
   "cell_type": "code",
   "execution_count": 10,
   "metadata": {},
   "outputs": [
    {
     "data": {
      "text/plain": [
       "(1015, 8)"
      ]
     },
     "execution_count": 10,
     "metadata": {},
     "output_type": "execute_result"
    }
   ],
   "source": [
    "df.shape"
   ]
  },
  {
   "cell_type": "code",
   "execution_count": 11,
   "metadata": {},
   "outputs": [
    {
     "data": {
      "text/plain": [
       "Index(['Artist Identifier', 'Artist Name', 'Date Created',\n",
       "       'Date Created In Library', 'Visible', 'Catalog Identifiers - Artist',\n",
       "       'Favorite Artist - Status', 'Favorite Artist - Date'],\n",
       "      dtype='object')"
      ]
     },
     "execution_count": 11,
     "metadata": {},
     "output_type": "execute_result"
    }
   ],
   "source": [
    "df.columns"
   ]
  },
  {
   "cell_type": "code",
   "execution_count": 12,
   "metadata": {},
   "outputs": [
    {
     "data": {
      "text/plain": [
       "1015"
      ]
     },
     "execution_count": 12,
     "metadata": {},
     "output_type": "execute_result"
    }
   ],
   "source": [
    "df['Artist Identifier'].nunique()"
   ]
  },
  {
   "cell_type": "code",
   "execution_count": 13,
   "metadata": {},
   "outputs": [
    {
     "data": {
      "text/plain": [
       "Artist Identifier\n",
       "r.002WMz7    1\n",
       "r.eIcke09    1\n",
       "r.doMr4y1    1\n",
       "r.dt7GPUw    1\n",
       "r.duQAwL3    1\n",
       "            ..\n",
       "r.JXnAsp6    1\n",
       "r.JZDeyoj    1\n",
       "r.JZOsyUb    1\n",
       "r.JlKItiw    1\n",
       "r.zwOlBFp    1\n",
       "Name: count, Length: 1015, dtype: int64"
      ]
     },
     "execution_count": 13,
     "metadata": {},
     "output_type": "execute_result"
    }
   ],
   "source": [
    "df['Artist Identifier'].value_counts()"
   ]
  },
  {
   "cell_type": "code",
   "execution_count": 14,
   "metadata": {},
   "outputs": [
    {
     "data": {
      "text/plain": [
       "0"
      ]
     },
     "execution_count": 14,
     "metadata": {},
     "output_type": "execute_result"
    }
   ],
   "source": [
    "df['Artist Identifier'].isna().sum()"
   ]
  },
  {
   "cell_type": "code",
   "execution_count": 15,
   "metadata": {},
   "outputs": [
    {
     "data": {
      "text/plain": [
       "1015"
      ]
     },
     "execution_count": 15,
     "metadata": {},
     "output_type": "execute_result"
    }
   ],
   "source": [
    "df['Artist Name'].nunique()"
   ]
  },
  {
   "cell_type": "code",
   "execution_count": 16,
   "metadata": {},
   "outputs": [
    {
     "data": {
      "text/plain": [
       "Artist Name\n",
       "Ed Sheeran                      1\n",
       "Bruno Mars                      1\n",
       "Flowdan, Lil Baby & Skrillex    1\n",
       "DNMO, Wolfy Lights & Blooom     1\n",
       "KR$NA & French The Kid          1\n",
       "                               ..\n",
       "Joyner Lucas & Lil Baby         1\n",
       "Major Lazer                     1\n",
       "Imagine Dragons                 1\n",
       "Skrillex                        1\n",
       "Alesso & DubVision              1\n",
       "Name: count, Length: 1015, dtype: int64"
      ]
     },
     "execution_count": 16,
     "metadata": {},
     "output_type": "execute_result"
    }
   ],
   "source": [
    "df['Artist Name'].value_counts()"
   ]
  },
  {
   "cell_type": "code",
   "execution_count": 17,
   "metadata": {},
   "outputs": [
    {
     "data": {
      "text/plain": [
       "0"
      ]
     },
     "execution_count": 17,
     "metadata": {},
     "output_type": "execute_result"
    }
   ],
   "source": [
    "df['Artist Name'].isna().sum()"
   ]
  },
  {
   "cell_type": "code",
   "execution_count": 18,
   "metadata": {},
   "outputs": [
    {
     "data": {
      "text/plain": [
       "866"
      ]
     },
     "execution_count": 18,
     "metadata": {},
     "output_type": "execute_result"
    }
   ],
   "source": [
    "df['Date Created'].nunique()"
   ]
  },
  {
   "cell_type": "code",
   "execution_count": 19,
   "metadata": {},
   "outputs": [
    {
     "data": {
      "text/plain": [
       "Date Created\n",
       "2023-02-15T08:07:07Z    31\n",
       "2024-07-22T02:18:17Z    29\n",
       "2024-07-22T02:18:20Z    26\n",
       "2021-06-05T17:48:05Z    22\n",
       "2022-04-28T00:59:21Z    12\n",
       "                        ..\n",
       "2021-03-05T20:18:35Z     1\n",
       "2022-10-26T10:09:12Z     1\n",
       "2023-01-14T06:21:05Z     1\n",
       "2021-03-27T21:11:32Z     1\n",
       "2022-11-01T21:23:33Z     1\n",
       "Name: count, Length: 866, dtype: int64"
      ]
     },
     "execution_count": 19,
     "metadata": {},
     "output_type": "execute_result"
    }
   ],
   "source": [
    "df['Date Created'].value_counts()"
   ]
  },
  {
   "cell_type": "code",
   "execution_count": 20,
   "metadata": {},
   "outputs": [
    {
     "data": {
      "text/plain": [
       "0"
      ]
     },
     "execution_count": 20,
     "metadata": {},
     "output_type": "execute_result"
    }
   ],
   "source": [
    "df['Date Created'].isna().sum()"
   ]
  },
  {
   "cell_type": "code",
   "execution_count": 21,
   "metadata": {},
   "outputs": [
    {
     "data": {
      "text/plain": [
       "852"
      ]
     },
     "execution_count": 21,
     "metadata": {},
     "output_type": "execute_result"
    }
   ],
   "source": [
    "df['Date Created In Library'].nunique()"
   ]
  },
  {
   "cell_type": "code",
   "execution_count": 22,
   "metadata": {},
   "outputs": [
    {
     "data": {
      "text/plain": [
       "Date Created In Library\n",
       "2023-02-15T08:07:07Z    31\n",
       "2024-07-22T02:18:17Z    29\n",
       "2021-06-05T17:48:05Z    27\n",
       "2024-07-22T02:18:20Z    26\n",
       "2022-04-28T01:04:28Z    12\n",
       "                        ..\n",
       "2023-10-04T23:30:45Z     1\n",
       "2022-05-04T22:19:17Z     1\n",
       "2021-03-05T20:18:35Z     1\n",
       "2022-10-26T10:09:12Z     1\n",
       "2022-11-01T21:23:33Z     1\n",
       "Name: count, Length: 852, dtype: int64"
      ]
     },
     "execution_count": 22,
     "metadata": {},
     "output_type": "execute_result"
    }
   ],
   "source": [
    "df['Date Created In Library'].value_counts()"
   ]
  },
  {
   "cell_type": "code",
   "execution_count": 23,
   "metadata": {},
   "outputs": [
    {
     "data": {
      "text/plain": [
       "0"
      ]
     },
     "execution_count": 23,
     "metadata": {},
     "output_type": "execute_result"
    }
   ],
   "source": [
    "df['Date Created In Library'].isna().sum()"
   ]
  },
  {
   "cell_type": "code",
   "execution_count": 25,
   "metadata": {},
   "outputs": [
    {
     "data": {
      "text/plain": [
       "168"
      ]
     },
     "execution_count": 25,
     "metadata": {},
     "output_type": "execute_result"
    }
   ],
   "source": [
    "df['Favorite Artist - Date'].nunique()"
   ]
  },
  {
   "cell_type": "code",
   "execution_count": 27,
   "metadata": {},
   "outputs": [
    {
     "data": {
      "text/plain": [
       "Favorite Artist - Date\n",
       "2022-10-26T10:00:03Z    1\n",
       "2022-10-26T10:03:17Z    1\n",
       "2022-10-26T10:00:19Z    1\n",
       "2023-04-13T19:39:35Z    1\n",
       "2022-10-26T09:55:01Z    1\n",
       "                       ..\n",
       "2022-10-26T10:04:00Z    1\n",
       "2024-06-22T23:46:32Z    1\n",
       "2022-10-26T10:02:00Z    1\n",
       "2022-12-07T07:39:33Z    1\n",
       "2024-06-05T03:51:12Z    1\n",
       "Name: count, Length: 168, dtype: int64"
      ]
     },
     "execution_count": 27,
     "metadata": {},
     "output_type": "execute_result"
    }
   ],
   "source": [
    "df['Favorite Artist - Date'].value_counts()"
   ]
  },
  {
   "cell_type": "code",
   "execution_count": 28,
   "metadata": {},
   "outputs": [
    {
     "data": {
      "text/plain": [
       "847"
      ]
     },
     "execution_count": 28,
     "metadata": {},
     "output_type": "execute_result"
    }
   ],
   "source": [
    "df['Favorite Artist - Date'].isna().sum()"
   ]
  },
  {
   "cell_type": "code",
   "execution_count": 30,
   "metadata": {},
   "outputs": [
    {
     "data": {
      "text/plain": [
       "0          Ed Sheeran\n",
       "4            Jamie xx\n",
       "8       Ramin Djawadi\n",
       "22           Dua Lipa\n",
       "25       Lost Stories\n",
       "            ...      \n",
       "982            Offset\n",
       "988             ISOxo\n",
       "994             Drake\n",
       "996     Flosstradamus\n",
       "1005              PFV\n",
       "Name: Artist Name, Length: 168, dtype: object"
      ]
     },
     "execution_count": 30,
     "metadata": {},
     "output_type": "execute_result"
    }
   ],
   "source": [
    "df[~df['Favorite Artist - Date'].isna()]['Artist Name']"
   ]
  },
  {
   "cell_type": "code",
   "execution_count": 31,
   "metadata": {},
   "outputs": [
    {
     "data": {
      "text/plain": [
       "1"
      ]
     },
     "execution_count": 31,
     "metadata": {},
     "output_type": "execute_result"
    }
   ],
   "source": [
    "df['Favorite Artist - Status'].nunique()"
   ]
  },
  {
   "cell_type": "code",
   "execution_count": 32,
   "metadata": {},
   "outputs": [
    {
     "data": {
      "text/plain": [
       "Favorite Artist - Status\n",
       "True    168\n",
       "Name: count, dtype: int64"
      ]
     },
     "execution_count": 32,
     "metadata": {},
     "output_type": "execute_result"
    }
   ],
   "source": [
    "df['Favorite Artist - Status'].value_counts()"
   ]
  },
  {
   "cell_type": "code",
   "execution_count": 34,
   "metadata": {},
   "outputs": [
    {
     "data": {
      "text/plain": [
       "0          Ed Sheeran\n",
       "4            Jamie xx\n",
       "8       Ramin Djawadi\n",
       "22           Dua Lipa\n",
       "25       Lost Stories\n",
       "            ...      \n",
       "982            Offset\n",
       "988             ISOxo\n",
       "994             Drake\n",
       "996     Flosstradamus\n",
       "1005              PFV\n",
       "Name: Artist Name, Length: 168, dtype: object"
      ]
     },
     "execution_count": 34,
     "metadata": {},
     "output_type": "execute_result"
    }
   ],
   "source": [
    "df[~df['Favorite Artist - Status'].isna()]['Artist Name']"
   ]
  },
  {
   "cell_type": "code",
   "execution_count": 35,
   "metadata": {},
   "outputs": [
    {
     "data": {
      "text/plain": [
       "690"
      ]
     },
     "execution_count": 35,
     "metadata": {},
     "output_type": "execute_result"
    }
   ],
   "source": [
    "df['Catalog Identifiers - Artist'].nunique()"
   ]
  },
  {
   "cell_type": "code",
   "execution_count": 36,
   "metadata": {},
   "outputs": [
    {
     "data": {
      "text/plain": [
       "Catalog Identifiers - Artist\n",
       "1              25\n",
       "827795989       9\n",
       "1455262408      8\n",
       "1484701109      7\n",
       "430932944       7\n",
       "               ..\n",
       "358714030       1\n",
       "1,356545647     1\n",
       "444520760       1\n",
       "944171951       1\n",
       "1356377051      1\n",
       "Name: count, Length: 690, dtype: int64"
      ]
     },
     "execution_count": 36,
     "metadata": {},
     "output_type": "execute_result"
    }
   ],
   "source": [
    "df['Catalog Identifiers - Artist'].value_counts()"
   ]
  },
  {
   "cell_type": "code",
   "execution_count": 38,
   "metadata": {},
   "outputs": [
    {
     "data": {
      "text/plain": [
       "Series([], Name: Artist Name, dtype: object)"
      ]
     },
     "execution_count": 38,
     "metadata": {},
     "output_type": "execute_result"
    }
   ],
   "source": [
    "df[df['Catalog Identifiers - Artist'] == 1]['Artist Name']"
   ]
  },
  {
   "cell_type": "code",
   "execution_count": 39,
   "metadata": {},
   "outputs": [],
   "source": [
    "df_non_nans = df.isna().sum(axis=1)\n",
    "min_len = df_non_nans.min()\n",
    "min_len_idx = df_non_nans.idxmin()"
   ]
  },
  {
   "cell_type": "code",
   "execution_count": 40,
   "metadata": {},
   "outputs": [],
   "source": [
    "mdown_text = f\"\"\"\n",
    "# Library Artists Data Definition\n",
    "\n",
    "This data dictionary describes the fields in the {FILE_NAME} data. There are {df.shape[0]} rows and {df.shape[1]} columns. \n",
    "\n",
    "## Library Artists Data\n",
    "\n",
    "\"\"\""
   ]
  },
  {
   "cell_type": "code",
   "execution_count": 41,
   "metadata": {},
   "outputs": [],
   "source": [
    "def generate_markdown_table(df, min_index):\n",
    "    # Helper function to map data types to more readable formats\n",
    "    def map_data_type(dtype, sample_value):\n",
    "        # Check for datetime\n",
    "        if pd.api.types.is_datetime64_any_dtype(dtype) or (\n",
    "            isinstance(sample_value, str) and pd.to_datetime(sample_value, errors='coerce') is not pd.NaT\n",
    "        ):\n",
    "            return \"Datetime\"\n",
    "        # Check for Boolean (Python Boolean or string representation)\n",
    "        elif isinstance(sample_value, bool) or (isinstance(sample_value, str) and sample_value.lower() in [\"true\", \"false\"]):\n",
    "            return \"Boolean\"\n",
    "        elif pd.api.types.is_string_dtype(dtype):\n",
    "            return \"String\"\n",
    "        elif pd.api.types.is_numeric_dtype(dtype):\n",
    "            if pd.api.types.is_integer_dtype(dtype):\n",
    "                return \"Integer\"\n",
    "            elif pd.api.types.is_float_dtype(dtype):\n",
    "                return \"Float\"\n",
    "        elif isinstance(sample_value, list):\n",
    "            return \"List\"\n",
    "        else:\n",
    "            return str(dtype)  # Fallback to original dtype if no match\n",
    "\n",
    "    # Generate the table header\n",
    "    markdown = \"| Column Name | Data Type | Description | Example Value |\\n\"\n",
    "    markdown += \"|-------------|-----------|-------------|---------------|\\n\"\n",
    "\n",
    "    # Iterate over DataFrame columns to generate each row\n",
    "    for column in df.columns:\n",
    "        sample_value = df[column].iloc[min_len_idx] if not df[column].empty else \"N/A\"\n",
    "        data_type = map_data_type(df[column].dtype, sample_value)\n",
    "        # Convert example_value to string to avoid formatting issues\n",
    "        example_value = str(sample_value).replace(\"\\n\", \" \").replace(\"|\", \"\\\\|\")\n",
    "        # Create a new row for each column\n",
    "        markdown += f\"| `{column}` | {data_type} |  | {example_value} |\\n\"\n",
    "\n",
    "    return markdown\n",
    "\n",
    "mdown_text += generate_markdown_table(df, min_len_idx)\n",
    "\n"
   ]
  },
  {
   "cell_type": "code",
   "execution_count": 42,
   "metadata": {},
   "outputs": [],
   "source": [
    "def write_markdown_file(mdown_text, file_path):\n",
    "    with open(file_path, 'w') as f:\n",
    "        f.write(mdown_text)\n",
    "    print(f\"Markdown file saved to {file_path}\")"
   ]
  },
  {
   "cell_type": "code",
   "execution_count": 43,
   "metadata": {},
   "outputs": [
    {
     "name": "stdout",
     "output_type": "stream",
     "text": [
      "Markdown file saved to ../docs/Library/LIBRARY_ARTISTS.md\n"
     ]
    }
   ],
   "source": [
    "write_markdown_file(mdown_text, os.path.join(DOCS_PATH, DOC_NAME))"
   ]
  },
  {
   "cell_type": "code",
   "execution_count": null,
   "metadata": {},
   "outputs": [],
   "source": []
  }
 ],
 "metadata": {
  "kernelspec": {
   "display_name": "airflow",
   "language": "python",
   "name": "python3"
  },
  "language_info": {
   "codemirror_mode": {
    "name": "ipython",
    "version": 3
   },
   "file_extension": ".py",
   "mimetype": "text/x-python",
   "name": "python",
   "nbconvert_exporter": "python",
   "pygments_lexer": "ipython3",
   "version": "3.11.5"
  },
  "orig_nbformat": 4
 },
 "nbformat": 4,
 "nbformat_minor": 2
}
