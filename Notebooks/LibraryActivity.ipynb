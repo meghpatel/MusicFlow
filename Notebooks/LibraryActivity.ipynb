{
 "cells": [
  {
   "cell_type": "code",
   "execution_count": 1,
   "metadata": {},
   "outputs": [],
   "source": [
    "import os\n",
    "import json\n",
    "import pyperclip\n",
    "import pandas as pd\n",
    "\n"
   ]
  },
  {
   "cell_type": "code",
   "execution_count": 3,
   "metadata": {},
   "outputs": [],
   "source": [
    "DATA_PATH = os.path.join('../Apple Music Activity')\n",
    "FILE_NAME = 'Apple Music Library Activity.json'\n",
    "DOCS_PATH = os.path.join('../docs/Library')\n",
    "DOC_NAME = 'LIBRARY_ACTIVITY.md'"
   ]
  },
  {
   "cell_type": "code",
   "execution_count": 4,
   "metadata": {},
   "outputs": [],
   "source": [
    "with open(os.path.join(DATA_PATH, FILE_NAME), 'r') as f:\n",
    "    library = json.load(f)"
   ]
  },
  {
   "cell_type": "code",
   "execution_count": 5,
   "metadata": {},
   "outputs": [
    {
     "data": {
      "text/plain": [
       "(6072, list)"
      ]
     },
     "execution_count": 5,
     "metadata": {},
     "output_type": "execute_result"
    }
   ],
   "source": [
    "len(library), type(library)"
   ]
  },
  {
   "cell_type": "code",
   "execution_count": 6,
   "metadata": {},
   "outputs": [
    {
     "data": {
      "text/plain": [
       "dict_keys(['Transaction Type', 'Transaction Identifier', 'Transaction Date', 'UserAgent', 'Subscription Start Date', 'Subscription Type'])"
      ]
     },
     "execution_count": 6,
     "metadata": {},
     "output_type": "execute_result"
    }
   ],
   "source": [
    "library[0].keys()"
   ]
  },
  {
   "cell_type": "code",
   "execution_count": 7,
   "metadata": {},
   "outputs": [
    {
     "data": {
      "text/plain": [
       "{5, 6, 7, 8, 9}"
      ]
     },
     "execution_count": 7,
     "metadata": {},
     "output_type": "execute_result"
    }
   ],
   "source": [
    "keys_set = set()\n",
    "for item in library:\n",
    "    keys_set.add(len(item.keys()))\n",
    "keys_set"
   ]
  },
  {
   "cell_type": "code",
   "execution_count": 8,
   "metadata": {},
   "outputs": [
    {
     "data": {
      "text/plain": [
       "({dict, int, list, str},\n",
       " {'Artist Catalog Identifier',\n",
       "  'Artists',\n",
       "  'Modified Container Identifiers',\n",
       "  'Playlist Identifiers Added From Profile',\n",
       "  'Playlist Identifiers Removed From Profile',\n",
       "  'Playlist Identifiers Set From Profile',\n",
       "  'Playlist Item Identifiers Appended',\n",
       "  'Playlists',\n",
       "  'Track Identifiers',\n",
       "  'Tracks'})"
      ]
     },
     "execution_count": 8,
     "metadata": {},
     "output_type": "execute_result"
    }
   ],
   "source": [
    "types_set = set()\n",
    "list_type_keyset = set()\n",
    "for item in library:\n",
    "    for key in item.keys():\n",
    "        types_set.add(type(item[key]))\n",
    "        if type(item[key]) == list:\n",
    "            list_type_keyset.add(key)\n",
    "        \n",
    "types_set, list_type_keyset"
   ]
  },
  {
   "cell_type": "code",
   "execution_count": 9,
   "metadata": {},
   "outputs": [],
   "source": [
    "df = pd.DataFrame(library)"
   ]
  },
  {
   "cell_type": "code",
   "execution_count": 10,
   "metadata": {},
   "outputs": [],
   "source": [
    "df.to_csv('LibraryActivity.csv', index=False)"
   ]
  },
  {
   "cell_type": "code",
   "execution_count": 11,
   "metadata": {},
   "outputs": [
    {
     "data": {
      "text/plain": [
       "Transaction Type\n",
       "updateItems                       2358\n",
       "addItems                          1835\n",
       "deleteItems                        678\n",
       "appendContainerItems               486\n",
       "updateContainer                    368\n",
       "updateUser                         108\n",
       "subscribeToPlaylist                 51\n",
       "updateArtistAdamIdsLikedStatus      50\n",
       "addContainer                        49\n",
       "updateArtists                       34\n",
       "deleteContainer                     24\n",
       "updateFavoriteArtistAdamIds         13\n",
       "addContainers                        5\n",
       "setProfileContainerIds               4\n",
       "optInUser                            3\n",
       "backfillAlbumArtists                 2\n",
       "optOutUser                           2\n",
       "startPlaylistCollaboration           2\n",
       "Name: count, dtype: int64"
      ]
     },
     "execution_count": 11,
     "metadata": {},
     "output_type": "execute_result"
    }
   ],
   "source": [
    "df['Transaction Type'].value_counts()"
   ]
  },
  {
   "cell_type": "code",
   "execution_count": 12,
   "metadata": {},
   "outputs": [],
   "source": [
    "update_items_df = df[df['Transaction Type'] == 'updateItems']"
   ]
  },
  {
   "cell_type": "code",
   "execution_count": 13,
   "metadata": {},
   "outputs": [
    {
     "data": {
      "text/plain": [
       "(2358, 29)"
      ]
     },
     "execution_count": 13,
     "metadata": {},
     "output_type": "execute_result"
    }
   ],
   "source": [
    "update_items_df.shape"
   ]
  },
  {
   "cell_type": "code",
   "execution_count": 14,
   "metadata": {},
   "outputs": [
    {
     "data": {
      "text/html": [
       "<div>\n",
       "<style scoped>\n",
       "    .dataframe tbody tr th:only-of-type {\n",
       "        vertical-align: middle;\n",
       "    }\n",
       "\n",
       "    .dataframe tbody tr th {\n",
       "        vertical-align: top;\n",
       "    }\n",
       "\n",
       "    .dataframe thead th {\n",
       "        text-align: right;\n",
       "    }\n",
       "</style>\n",
       "<table border=\"1\" class=\"dataframe\">\n",
       "  <thead>\n",
       "    <tr style=\"text-align: right;\">\n",
       "      <th></th>\n",
       "      <th>Transaction Type</th>\n",
       "      <th>Transaction Identifier</th>\n",
       "      <th>Transaction Date</th>\n",
       "      <th>UserAgent</th>\n",
       "      <th>Subscription Start Date</th>\n",
       "      <th>Subscription Type</th>\n",
       "      <th>User</th>\n",
       "      <th>Country</th>\n",
       "      <th>Language</th>\n",
       "      <th>Tracks</th>\n",
       "      <th>...</th>\n",
       "      <th>Playlist Identifiers Removed From Profile</th>\n",
       "      <th>Playlist Identifiers Set From Profile</th>\n",
       "      <th>Playlist Identifiers Added From Profile</th>\n",
       "      <th>Artist Catalog Identifier</th>\n",
       "      <th>Favorite Type</th>\n",
       "      <th>Liked Status</th>\n",
       "      <th>Artists</th>\n",
       "      <th>Collaboration Identifier</th>\n",
       "      <th>Source Playlist Identifier</th>\n",
       "      <th>Collaboration Playlist Identifier</th>\n",
       "    </tr>\n",
       "  </thead>\n",
       "  <tbody>\n",
       "    <tr>\n",
       "      <th>7</th>\n",
       "      <td>updateItems</td>\n",
       "      <td>10000007</td>\n",
       "      <td>2021-03-01T07:34:49Z</td>\n",
       "      <td>itunescloudd/1.0 iOS/14.4 model/iPhone9,3 hwp/...</td>\n",
       "      <td>NaN</td>\n",
       "      <td>NaN</td>\n",
       "      <td>NaN</td>\n",
       "      <td>USA</td>\n",
       "      <td>en-us</td>\n",
       "      <td>[{'Track Identifier': 182857262, 'Last Played ...</td>\n",
       "      <td>...</td>\n",
       "      <td>NaN</td>\n",
       "      <td>NaN</td>\n",
       "      <td>NaN</td>\n",
       "      <td>NaN</td>\n",
       "      <td>NaN</td>\n",
       "      <td>NaN</td>\n",
       "      <td>NaN</td>\n",
       "      <td>NaN</td>\n",
       "      <td>NaN</td>\n",
       "      <td>NaN</td>\n",
       "    </tr>\n",
       "    <tr>\n",
       "      <th>23</th>\n",
       "      <td>updateItems</td>\n",
       "      <td>10000023</td>\n",
       "      <td>2021-03-07T00:44:13Z</td>\n",
       "      <td>itunescloudd/1.0 iOS/14.4 model/iPhone9,3 hwp/...</td>\n",
       "      <td>NaN</td>\n",
       "      <td>NaN</td>\n",
       "      <td>NaN</td>\n",
       "      <td>USA</td>\n",
       "      <td>en-us</td>\n",
       "      <td>[{'Track Identifier': 182857518, 'Date of Last...</td>\n",
       "      <td>...</td>\n",
       "      <td>NaN</td>\n",
       "      <td>NaN</td>\n",
       "      <td>NaN</td>\n",
       "      <td>NaN</td>\n",
       "      <td>NaN</td>\n",
       "      <td>NaN</td>\n",
       "      <td>NaN</td>\n",
       "      <td>NaN</td>\n",
       "      <td>NaN</td>\n",
       "      <td>NaN</td>\n",
       "    </tr>\n",
       "    <tr>\n",
       "      <th>24</th>\n",
       "      <td>updateItems</td>\n",
       "      <td>10000024</td>\n",
       "      <td>2021-03-08T07:26:18Z</td>\n",
       "      <td>itunescloudd/1.0 iOS/14.4 model/iPhone9,3 hwp/...</td>\n",
       "      <td>NaN</td>\n",
       "      <td>NaN</td>\n",
       "      <td>NaN</td>\n",
       "      <td>USA</td>\n",
       "      <td>en-us</td>\n",
       "      <td>[{'Track Identifier': 182857730, 'Last Played ...</td>\n",
       "      <td>...</td>\n",
       "      <td>NaN</td>\n",
       "      <td>NaN</td>\n",
       "      <td>NaN</td>\n",
       "      <td>NaN</td>\n",
       "      <td>NaN</td>\n",
       "      <td>NaN</td>\n",
       "      <td>NaN</td>\n",
       "      <td>NaN</td>\n",
       "      <td>NaN</td>\n",
       "      <td>NaN</td>\n",
       "    </tr>\n",
       "    <tr>\n",
       "      <th>39</th>\n",
       "      <td>updateItems</td>\n",
       "      <td>10000039</td>\n",
       "      <td>2021-03-09T12:09:14Z</td>\n",
       "      <td>itunescloudd/1.0 iOS/14.4 model/iPhone9,3 hwp/...</td>\n",
       "      <td>NaN</td>\n",
       "      <td>NaN</td>\n",
       "      <td>NaN</td>\n",
       "      <td>USA</td>\n",
       "      <td>en-us</td>\n",
       "      <td>[{'Track Identifier': 182857774, 'Last Played ...</td>\n",
       "      <td>...</td>\n",
       "      <td>NaN</td>\n",
       "      <td>NaN</td>\n",
       "      <td>NaN</td>\n",
       "      <td>NaN</td>\n",
       "      <td>NaN</td>\n",
       "      <td>NaN</td>\n",
       "      <td>NaN</td>\n",
       "      <td>NaN</td>\n",
       "      <td>NaN</td>\n",
       "      <td>NaN</td>\n",
       "    </tr>\n",
       "    <tr>\n",
       "      <th>40</th>\n",
       "      <td>updateItems</td>\n",
       "      <td>10000040</td>\n",
       "      <td>2021-03-10T02:40:45Z</td>\n",
       "      <td>itunescloudd/1.0 iOS/14.4 model/iPhone9,3 hwp/...</td>\n",
       "      <td>NaN</td>\n",
       "      <td>NaN</td>\n",
       "      <td>NaN</td>\n",
       "      <td>USA</td>\n",
       "      <td>en-us</td>\n",
       "      <td>[{'Track Identifier': 182857774, 'Last Played ...</td>\n",
       "      <td>...</td>\n",
       "      <td>NaN</td>\n",
       "      <td>NaN</td>\n",
       "      <td>NaN</td>\n",
       "      <td>NaN</td>\n",
       "      <td>NaN</td>\n",
       "      <td>NaN</td>\n",
       "      <td>NaN</td>\n",
       "      <td>NaN</td>\n",
       "      <td>NaN</td>\n",
       "      <td>NaN</td>\n",
       "    </tr>\n",
       "  </tbody>\n",
       "</table>\n",
       "<p>5 rows × 29 columns</p>\n",
       "</div>"
      ],
      "text/plain": [
       "   Transaction Type  Transaction Identifier      Transaction Date  \\\n",
       "7       updateItems                10000007  2021-03-01T07:34:49Z   \n",
       "23      updateItems                10000023  2021-03-07T00:44:13Z   \n",
       "24      updateItems                10000024  2021-03-08T07:26:18Z   \n",
       "39      updateItems                10000039  2021-03-09T12:09:14Z   \n",
       "40      updateItems                10000040  2021-03-10T02:40:45Z   \n",
       "\n",
       "                                            UserAgent Subscription Start Date  \\\n",
       "7   itunescloudd/1.0 iOS/14.4 model/iPhone9,3 hwp/...                     NaN   \n",
       "23  itunescloudd/1.0 iOS/14.4 model/iPhone9,3 hwp/...                     NaN   \n",
       "24  itunescloudd/1.0 iOS/14.4 model/iPhone9,3 hwp/...                     NaN   \n",
       "39  itunescloudd/1.0 iOS/14.4 model/iPhone9,3 hwp/...                     NaN   \n",
       "40  itunescloudd/1.0 iOS/14.4 model/iPhone9,3 hwp/...                     NaN   \n",
       "\n",
       "   Subscription Type User Country Language  \\\n",
       "7                NaN  NaN     USA    en-us   \n",
       "23               NaN  NaN     USA    en-us   \n",
       "24               NaN  NaN     USA    en-us   \n",
       "39               NaN  NaN     USA    en-us   \n",
       "40               NaN  NaN     USA    en-us   \n",
       "\n",
       "                                               Tracks  ...  \\\n",
       "7   [{'Track Identifier': 182857262, 'Last Played ...  ...   \n",
       "23  [{'Track Identifier': 182857518, 'Date of Last...  ...   \n",
       "24  [{'Track Identifier': 182857730, 'Last Played ...  ...   \n",
       "39  [{'Track Identifier': 182857774, 'Last Played ...  ...   \n",
       "40  [{'Track Identifier': 182857774, 'Last Played ...  ...   \n",
       "\n",
       "   Playlist Identifiers Removed From Profile  \\\n",
       "7                                        NaN   \n",
       "23                                       NaN   \n",
       "24                                       NaN   \n",
       "39                                       NaN   \n",
       "40                                       NaN   \n",
       "\n",
       "   Playlist Identifiers Set From Profile  \\\n",
       "7                                    NaN   \n",
       "23                                   NaN   \n",
       "24                                   NaN   \n",
       "39                                   NaN   \n",
       "40                                   NaN   \n",
       "\n",
       "   Playlist Identifiers Added From Profile  Artist Catalog Identifier  \\\n",
       "7                                      NaN                        NaN   \n",
       "23                                     NaN                        NaN   \n",
       "24                                     NaN                        NaN   \n",
       "39                                     NaN                        NaN   \n",
       "40                                     NaN                        NaN   \n",
       "\n",
       "   Favorite Type Liked Status Artists Collaboration Identifier  \\\n",
       "7            NaN          NaN     NaN                      NaN   \n",
       "23           NaN          NaN     NaN                      NaN   \n",
       "24           NaN          NaN     NaN                      NaN   \n",
       "39           NaN          NaN     NaN                      NaN   \n",
       "40           NaN          NaN     NaN                      NaN   \n",
       "\n",
       "   Source Playlist Identifier Collaboration Playlist Identifier  \n",
       "7                         NaN                               NaN  \n",
       "23                        NaN                               NaN  \n",
       "24                        NaN                               NaN  \n",
       "39                        NaN                               NaN  \n",
       "40                        NaN                               NaN  \n",
       "\n",
       "[5 rows x 29 columns]"
      ]
     },
     "execution_count": 14,
     "metadata": {},
     "output_type": "execute_result"
    }
   ],
   "source": [
    "update_items_df.head()"
   ]
  },
  {
   "cell_type": "code",
   "execution_count": 32,
   "metadata": {},
   "outputs": [
    {
     "name": "stdout",
     "output_type": "stream",
     "text": [
      "Playlist Identifiers Added From Profile\n",
      "Playlist Identifiers Added From Profile [256001537, 256000521]\n",
      "\n",
      "Playlist Item Identifiers Appended\n",
      "Playlist Item Identifiers Appended [182860082]\n",
      "\n",
      "Playlist Identifiers Removed From Profile\n",
      "Playlist Identifiers Removed From Profile [256001293, 256001041, 256000521]\n",
      "\n",
      "Artist Catalog Identifier\n",
      "Artist Catalog Identifier ['430932944']\n",
      "\n",
      "Modified Container Identifiers\n",
      "Modified Container Identifiers [256001041]\n",
      "\n",
      "Artists\n",
      "Artists [{'Artist Identifier': 'r.ibIa6Y5', 'Is Favorite': True}]\n",
      "\n",
      "Playlist Identifiers Set From Profile\n",
      "Playlist Identifiers Set From Profile [256002053, 256002049, 256001809, 256001801, 256001797, 256001793, 256001553, 256001537, 256000521]\n",
      "\n",
      "Tracks\n",
      "Tracks [{'Content Type': 'Song', 'Track Identifier': 182857262, 'Date Added To Library': '2021-02-28T19:34:08Z', 'Date Added To iCloud Music Library': '2021-02-28T19:34:08Z', 'Last Modified Date': '2021-02-28T19:34:08Z', 'Is Checked': False, 'Apple Music Track Identifier': 1137641426}]\n",
      "\n",
      "Track Identifiers\n",
      "Track Identifiers [182857754]\n",
      "\n",
      "Playlists\n",
      "Playlists [{'Container Type': 'Playlist', 'Container Identifier': 256000525, 'Title': 'My Shazam Tracks', 'Description': 'This playlist contains the tracks you have discovered with Shazam. As you Shazam additional tracks, they will show up here automatically.', 'Playlist Is Shared': False, 'Name or Description Modified Date': '2021-06-05T17:48:04Z'}]\n",
      "\n"
     ]
    }
   ],
   "source": [
    "for key in list_type_keyset:\n",
    "    print (key)\n",
    "    for i, row in df.iterrows():\n",
    "        if (type(row[key]) == list) or (type(row[key]) == pd.Series):\n",
    "            print(key, row[key])\n",
    "            print (\"\")\n",
    "            break"
   ]
  },
  {
   "cell_type": "code",
   "execution_count": null,
   "metadata": {},
   "outputs": [],
   "source": []
  },
  {
   "cell_type": "code",
   "execution_count": 34,
   "metadata": {},
   "outputs": [],
   "source": [
    "df_non_nans = df.isna().sum(axis=1)\n",
    "min_len = df_non_nans.min()\n",
    "min_len_idx = df_non_nans.idxmin()"
   ]
  },
  {
   "cell_type": "code",
   "execution_count": 36,
   "metadata": {},
   "outputs": [],
   "source": [
    "mdown_text = f\"\"\"\n",
    "# Library Activity Data Definition\n",
    "\n",
    "This data dictionary describes the fields in the {FILE_NAME} data. There are {df.shape[0]} rows and {df.shape[1]} columns. \n",
    "\n",
    "## Library Activity Data\n",
    "\n",
    "\"\"\""
   ]
  },
  {
   "cell_type": "code",
   "execution_count": 37,
   "metadata": {},
   "outputs": [],
   "source": [
    "def generate_markdown_table(df, min_index):\n",
    "    # Helper function to map data types to more readable formats\n",
    "    def map_data_type(dtype, sample_value):\n",
    "        # Check for datetime\n",
    "        if pd.api.types.is_datetime64_any_dtype(dtype) or (\n",
    "            isinstance(sample_value, str) and pd.to_datetime(sample_value, errors='coerce') is not pd.NaT\n",
    "        ):\n",
    "            return \"Datetime\"\n",
    "        # Check for Boolean (Python Boolean or string representation)\n",
    "        elif isinstance(sample_value, bool) or (isinstance(sample_value, str) and sample_value.lower() in [\"true\", \"false\"]):\n",
    "            return \"Boolean\"\n",
    "        elif pd.api.types.is_string_dtype(dtype):\n",
    "            return \"String\"\n",
    "        elif pd.api.types.is_numeric_dtype(dtype):\n",
    "            if pd.api.types.is_integer_dtype(dtype):\n",
    "                return \"Integer\"\n",
    "            elif pd.api.types.is_float_dtype(dtype):\n",
    "                return \"Float\"\n",
    "        elif isinstance(sample_value, list):\n",
    "            return \"List\"\n",
    "        else:\n",
    "            return str(dtype)  # Fallback to original dtype if no match\n",
    "\n",
    "    # Generate the table header\n",
    "    markdown = \"| Column Name | Data Type | Description | Example Value |\\n\"\n",
    "    markdown += \"|-------------|-----------|-------------|---------------|\\n\"\n",
    "\n",
    "    # Iterate over DataFrame columns to generate each row\n",
    "    for column in df.columns:\n",
    "        sample_value = df[column].iloc[min_len_idx] if not df[column].empty else \"N/A\"\n",
    "        data_type = map_data_type(df[column].dtype, sample_value)\n",
    "        # Convert example_value to string to avoid formatting issues\n",
    "        example_value = str(sample_value).replace(\"\\n\", \" \").replace(\"|\", \"\\\\|\")\n",
    "        # Create a new row for each column\n",
    "        markdown += f\"| `{column}` | {data_type} |  | {example_value} |\\n\"\n",
    "\n",
    "    return markdown\n",
    "\n",
    "mdown_text += generate_markdown_table(df, min_len_idx)\n",
    "\n"
   ]
  },
  {
   "cell_type": "code",
   "execution_count": 38,
   "metadata": {},
   "outputs": [],
   "source": [
    "def write_markdown_file(mdown_text, file_path):\n",
    "    with open(file_path, 'w') as f:\n",
    "        f.write(mdown_text)\n",
    "    print(f\"Markdown file saved to {file_path}\")"
   ]
  },
  {
   "cell_type": "code",
   "execution_count": 39,
   "metadata": {},
   "outputs": [
    {
     "name": "stdout",
     "output_type": "stream",
     "text": [
      "Markdown file saved to ../docs/Library/LIBRARY_ACTIVITY.md\n"
     ]
    }
   ],
   "source": [
    "write_markdown_file(mdown_text, os.path.join(DOCS_PATH, DOC_NAME))"
   ]
  },
  {
   "cell_type": "code",
   "execution_count": 42,
   "metadata": {},
   "outputs": [],
   "source": [
    "transaction_type_count = df['Transaction Type'].value_counts()"
   ]
  },
  {
   "cell_type": "code",
   "execution_count": 43,
   "metadata": {},
   "outputs": [],
   "source": [
    "def convert_to_markdown_table(df):\n",
    "    markdown = \"|\"\n",
    "    for col in df.columns:\n",
    "        markdown += f\" {col} |\"\n",
    "    markdown += \"\\n|\"\n",
    "    for col in df.columns:\n",
    "        markdown += \" --- |\"\n",
    "    markdown += \"\\n\"\n",
    "    for i, row in df.iterrows():\n",
    "        markdown += \"|\"\n",
    "        for col in df.columns:\n",
    "            markdown += f\" {row[col]} |\"\n",
    "        markdown += \"\\n\"\n",
    "    return markdown"
   ]
  },
  {
   "cell_type": "code",
   "execution_count": 44,
   "metadata": {},
   "outputs": [
    {
     "ename": "AttributeError",
     "evalue": "'Series' object has no attribute 'columns'",
     "output_type": "error",
     "traceback": [
      "\u001b[0;31m---------------------------------------------------------------------------\u001b[0m",
      "\u001b[0;31mAttributeError\u001b[0m                            Traceback (most recent call last)",
      "\u001b[0;32m/var/folders/0g/0v9zxft92v99z8q2h1c_wqxm0000gn/T/ipykernel_13076/1456409926.py\u001b[0m in \u001b[0;36m?\u001b[0;34m()\u001b[0m\n\u001b[0;32m----> 1\u001b[0;31m \u001b[0mconvert_to_markdown_table\u001b[0m\u001b[0;34m(\u001b[0m\u001b[0mtransaction_type_count\u001b[0m\u001b[0;34m)\u001b[0m\u001b[0;34m\u001b[0m\u001b[0;34m\u001b[0m\u001b[0m\n\u001b[0m",
      "\u001b[0;32m/var/folders/0g/0v9zxft92v99z8q2h1c_wqxm0000gn/T/ipykernel_13076/2608150945.py\u001b[0m in \u001b[0;36m?\u001b[0;34m(df)\u001b[0m\n\u001b[1;32m      1\u001b[0m \u001b[0;32mdef\u001b[0m \u001b[0mconvert_to_markdown_table\u001b[0m\u001b[0;34m(\u001b[0m\u001b[0mdf\u001b[0m\u001b[0;34m)\u001b[0m\u001b[0;34m:\u001b[0m\u001b[0;34m\u001b[0m\u001b[0;34m\u001b[0m\u001b[0m\n\u001b[1;32m      2\u001b[0m     \u001b[0mmarkdown\u001b[0m \u001b[0;34m=\u001b[0m \u001b[0;34m\"|\"\u001b[0m\u001b[0;34m\u001b[0m\u001b[0;34m\u001b[0m\u001b[0m\n\u001b[0;32m----> 3\u001b[0;31m     \u001b[0;32mfor\u001b[0m \u001b[0mcol\u001b[0m \u001b[0;32min\u001b[0m \u001b[0mdf\u001b[0m\u001b[0;34m.\u001b[0m\u001b[0mcolumns\u001b[0m\u001b[0;34m:\u001b[0m\u001b[0;34m\u001b[0m\u001b[0;34m\u001b[0m\u001b[0m\n\u001b[0m\u001b[1;32m      4\u001b[0m         \u001b[0mmarkdown\u001b[0m \u001b[0;34m+=\u001b[0m \u001b[0;34mf\" {col} |\"\u001b[0m\u001b[0;34m\u001b[0m\u001b[0;34m\u001b[0m\u001b[0m\n\u001b[1;32m      5\u001b[0m     \u001b[0mmarkdown\u001b[0m \u001b[0;34m+=\u001b[0m \u001b[0;34m\"\\n|\"\u001b[0m\u001b[0;34m\u001b[0m\u001b[0;34m\u001b[0m\u001b[0m\n\u001b[1;32m      6\u001b[0m     \u001b[0;32mfor\u001b[0m \u001b[0mcol\u001b[0m \u001b[0;32min\u001b[0m \u001b[0mdf\u001b[0m\u001b[0;34m.\u001b[0m\u001b[0mcolumns\u001b[0m\u001b[0;34m:\u001b[0m\u001b[0;34m\u001b[0m\u001b[0;34m\u001b[0m\u001b[0m\n",
      "\u001b[0;32m~/opt/miniconda3/envs/airflow/lib/python3.11/site-packages/pandas/core/generic.py\u001b[0m in \u001b[0;36m?\u001b[0;34m(self, name)\u001b[0m\n\u001b[1;32m   6289\u001b[0m             \u001b[0;32mand\u001b[0m \u001b[0mname\u001b[0m \u001b[0;32mnot\u001b[0m \u001b[0;32min\u001b[0m \u001b[0mself\u001b[0m\u001b[0;34m.\u001b[0m\u001b[0m_accessors\u001b[0m\u001b[0;34m\u001b[0m\u001b[0;34m\u001b[0m\u001b[0m\n\u001b[1;32m   6290\u001b[0m             \u001b[0;32mand\u001b[0m \u001b[0mself\u001b[0m\u001b[0;34m.\u001b[0m\u001b[0m_info_axis\u001b[0m\u001b[0;34m.\u001b[0m\u001b[0m_can_hold_identifiers_and_holds_name\u001b[0m\u001b[0;34m(\u001b[0m\u001b[0mname\u001b[0m\u001b[0;34m)\u001b[0m\u001b[0;34m\u001b[0m\u001b[0;34m\u001b[0m\u001b[0m\n\u001b[1;32m   6291\u001b[0m         ):\n\u001b[1;32m   6292\u001b[0m             \u001b[0;32mreturn\u001b[0m \u001b[0mself\u001b[0m\u001b[0;34m[\u001b[0m\u001b[0mname\u001b[0m\u001b[0;34m]\u001b[0m\u001b[0;34m\u001b[0m\u001b[0;34m\u001b[0m\u001b[0m\n\u001b[0;32m-> 6293\u001b[0;31m         \u001b[0;32mreturn\u001b[0m \u001b[0mobject\u001b[0m\u001b[0;34m.\u001b[0m\u001b[0m__getattribute__\u001b[0m\u001b[0;34m(\u001b[0m\u001b[0mself\u001b[0m\u001b[0;34m,\u001b[0m \u001b[0mname\u001b[0m\u001b[0;34m)\u001b[0m\u001b[0;34m\u001b[0m\u001b[0;34m\u001b[0m\u001b[0m\n\u001b[0m",
      "\u001b[0;31mAttributeError\u001b[0m: 'Series' object has no attribute 'columns'"
     ]
    }
   ],
   "source": [
    "convert_to_markdown_table(transaction_type_count)"
   ]
  },
  {
   "cell_type": "code",
   "execution_count": 46,
   "metadata": {},
   "outputs": [],
   "source": [
    "def generate_markdown_table(data):\n",
    "    # Check if the input is a Series or a DataFrame\n",
    "    if isinstance(data, pd.Series):\n",
    "        markdown = \"| Value | Count |\\n\"\n",
    "        markdown += \"|-------|-------|\\n\"\n",
    "        for index, value in data.items():\n",
    "            # Convert index and value to strings, replacing problematic characters for Markdown\n",
    "            index_str = str(index).replace(\"|\", \"\\\\|\")\n",
    "            value_str = str(value).replace(\"|\", \"\\\\|\")\n",
    "            markdown += f\"| {index_str} | {value_str} |\\n\"\n",
    "        return markdown\n",
    "\n",
    "    elif isinstance(data, pd.DataFrame):\n",
    "        # Helper function to map data types to more readable formats\n",
    "        def map_data_type(dtype, sample_value):\n",
    "            # Check for datetime\n",
    "            if pd.api.types.is_datetime64_any_dtype(dtype) or (\n",
    "                isinstance(sample_value, str) and pd.to_datetime(sample_value, errors='coerce') is not pd.NaT\n",
    "            ):\n",
    "                return \"Datetime\"\n",
    "            # Check for Boolean (Python Boolean or string representation)\n",
    "            elif isinstance(sample_value, bool) or (isinstance(sample_value, str) and sample_value.lower() in [\"true\", \"false\"]):\n",
    "                return \"Boolean\"\n",
    "            elif pd.api.types.is_string_dtype(dtype):\n",
    "                return \"String\"\n",
    "            elif pd.api.types.is_numeric_dtype(dtype):\n",
    "                if pd.api.types.is_integer_dtype(dtype):\n",
    "                    return \"Integer\"\n",
    "                elif pd.api.types.is_float_dtype(dtype):\n",
    "                    return \"Float\"\n",
    "            elif (isinstance(sample_value, list)) or type(sample_value) == pd.Series:\n",
    "                return \"List\"\n",
    "            else:\n",
    "                return str(dtype)  # Fallback to original dtype if no match\n",
    "\n",
    "        # Generate the table header for DataFrame\n",
    "        markdown = \"| Column Name | Data Type | Description | Example Value |\\n\"\n",
    "        markdown += \"|-------------|-----------|-------------|---------------|\\n\"\n",
    "\n",
    "        # Iterate over DataFrame columns to generate each row\n",
    "        for column in data.columns:\n",
    "            sample_value = data[column].iloc[0] if not data[column].empty else \"N/A\"\n",
    "            data_type = map_data_type(data[column].dtype, sample_value)\n",
    "            # Convert example_value to string to avoid formatting issues\n",
    "            example_value = str(sample_value).replace(\"\\n\", \" \").replace(\"|\", \"\\\\|\")\n",
    "            # Create a new row for each column\n",
    "            markdown += f\"| `{column}` | {data_type} |  | {example_value} |\\n\"\n",
    "\n",
    "        return markdown\n",
    "\n",
    "    else:\n",
    "        raise TypeError(\"Input must be a pandas DataFrame or Series\")"
   ]
  },
  {
   "cell_type": "code",
   "execution_count": 48,
   "metadata": {},
   "outputs": [],
   "source": [
    "transaction_type_count_mkdown = generate_markdown_table(transaction_type_count)\n",
    "pyperclip.copy(transaction_type_count_mkdown)\n"
   ]
  },
  {
   "cell_type": "code",
   "execution_count": null,
   "metadata": {},
   "outputs": [],
   "source": []
  },
  {
   "cell_type": "code",
   "execution_count": null,
   "metadata": {},
   "outputs": [],
   "source": []
  }
 ],
 "metadata": {
  "kernelspec": {
   "display_name": "airflow",
   "language": "python",
   "name": "python3"
  },
  "language_info": {
   "codemirror_mode": {
    "name": "ipython",
    "version": 3
   },
   "file_extension": ".py",
   "mimetype": "text/x-python",
   "name": "python",
   "nbconvert_exporter": "python",
   "pygments_lexer": "ipython3",
   "version": "3.11.5"
  }
 },
 "nbformat": 4,
 "nbformat_minor": 2
}
