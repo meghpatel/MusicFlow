{
 "cells": [
  {
   "cell_type": "code",
   "execution_count": 2,
   "metadata": {},
   "outputs": [],
   "source": [
    "from collections import Counter\n",
    "import pandas as pd\n",
    "import json\n",
    "import os"
   ]
  },
  {
   "cell_type": "code",
   "execution_count": 3,
   "metadata": {},
   "outputs": [],
   "source": [
    "DATA_PATH = os.path.join('Apple Music Activity')\n",
    "\n",
    "with open(os.path.join(DATA_PATH, 'Identifier Information.json'), 'r') as f:\n",
    "    identifier_info = json.load(f)"
   ]
  },
  {
   "cell_type": "markdown",
   "metadata": {},
   "source": [
    "# Identifier Info \n",
    "\n",
    "(list, 5196) - List of JSON with 5196 items <br>\n",
    "{2} - Set of (length of keys) of each JSON <br>"
   ]
  },
  {
   "cell_type": "code",
   "execution_count": 4,
   "metadata": {},
   "outputs": [
    {
     "data": {
      "text/plain": [
       "(list, 5196)"
      ]
     },
     "execution_count": 4,
     "metadata": {},
     "output_type": "execute_result"
    }
   ],
   "source": [
    "type(identifier_info), len(identifier_info)"
   ]
  },
  {
   "cell_type": "code",
   "execution_count": 5,
   "metadata": {},
   "outputs": [
    {
     "name": "stdout",
     "output_type": "stream",
     "text": [
      "{2}\n"
     ]
    }
   ],
   "source": [
    "check_number_of_keys = set()\n",
    "for item in identifier_info:\n",
    "    check_number_of_keys.add(len(item.keys()))\n",
    "\n",
    "print (check_number_of_keys)"
   ]
  },
  {
   "cell_type": "code",
   "execution_count": 6,
   "metadata": {},
   "outputs": [
    {
     "data": {
      "text/plain": [
       "(5196, 2)"
      ]
     },
     "execution_count": 6,
     "metadata": {},
     "output_type": "execute_result"
    }
   ],
   "source": [
    "# Convert to DataFrame\n",
    "df = pd.DataFrame(identifier_info)\n",
    "df.shape"
   ]
  },
  {
   "cell_type": "markdown",
   "metadata": {},
   "source": [
    "# Apple Music Library Tracks\n",
    "\n",
    "(list, 2761) - type, size"
   ]
  },
  {
   "cell_type": "code",
   "execution_count": 7,
   "metadata": {},
   "outputs": [],
   "source": [
    "with open(os.path.join(DATA_PATH, 'Apple Music Library Tracks.json'), 'r') as f:\n",
    "    library_tracks = json.load(f)"
   ]
  },
  {
   "cell_type": "code",
   "execution_count": 8,
   "metadata": {},
   "outputs": [
    {
     "data": {
      "text/plain": [
       "(list, 2761)"
      ]
     },
     "execution_count": 8,
     "metadata": {},
     "output_type": "execute_result"
    }
   ],
   "source": [
    "type(library_tracks), len(library_tracks)"
   ]
  },
  {
   "cell_type": "code",
   "execution_count": 9,
   "metadata": {},
   "outputs": [
    {
     "name": "stdout",
     "output_type": "stream",
     "text": [
      "{21, 22, 24, 25, 26, 27, 28, 29, 30, 31, 32, 33, 34, 35, 36, 37, 38, 39, 40, 41, 46, 47, 48}\n"
     ]
    }
   ],
   "source": [
    "check_number_of_keys = set()\n",
    "for item in library_tracks:\n",
    "    check_number_of_keys.add(len(item.keys()))\n",
    "\n",
    "print (check_number_of_keys)"
   ]
  },
  {
   "cell_type": "code",
   "execution_count": 10,
   "metadata": {},
   "outputs": [],
   "source": [
    "library_tracks_df = pd.DataFrame(library_tracks)"
   ]
  },
  {
   "cell_type": "code",
   "execution_count": 11,
   "metadata": {},
   "outputs": [
    {
     "data": {
      "text/plain": [
       "(2761, 52)"
      ]
     },
     "execution_count": 11,
     "metadata": {},
     "output_type": "execute_result"
    }
   ],
   "source": [
    "library_tracks_df.shape"
   ]
  },
  {
   "cell_type": "code",
   "execution_count": 12,
   "metadata": {},
   "outputs": [],
   "source": [
    "# Flatten all keys from the JSON objects\n",
    "all_keys = [key for track in library_tracks for key in track.keys()]\n",
    "\n",
    "# Count occurrences of each key\n",
    "key_counts = Counter(all_keys)\n",
    "\n",
    "# Convert to a DataFrame for easier analysis\n",
    "key_df = pd.DataFrame(key_counts.items(), columns=['Key', 'Count']).sort_values(by='Count', ascending=False)"
   ]
  },
  {
   "cell_type": "code",
   "execution_count": 13,
   "metadata": {},
   "outputs": [],
   "source": [
    "key_df.to_csv('key_counts.csv', index=False)"
   ]
  },
  {
   "cell_type": "code",
   "execution_count": 14,
   "metadata": {},
   "outputs": [
    {
     "data": {
      "text/plain": [
       "Index(['Content Type', 'Track Identifier', 'Title', 'Sort Name', 'Artist',\n",
       "       'Sort Artist', 'Composer', 'Is Part of Compilation', 'Album',\n",
       "       'Sort Album', 'Album Artist', 'Genre', 'Track Year',\n",
       "       'Track Number On Album', 'Track Count On Album', 'Disc Number Of Album',\n",
       "       'Disc Count Of Album', 'Track Duration', 'Track Play Count',\n",
       "       'Date Added To Library', 'Date Added To iCloud Music Library',\n",
       "       'Last Modified Date', 'Last Played Date', 'Skip Count',\n",
       "       'Date of Last Skip', 'Is Purchased', 'Audio File Extension',\n",
       "       'Is Checked', 'Copyright', 'Release Date', 'Purchased Track Identifier',\n",
       "       'Apple Music Track Identifier', 'Track Like Rating',\n",
       "       'Favorite Status - Track', 'Favorite Date - Track', 'Album Like Rating',\n",
       "       'Favorite Status - Album', 'Grouping', 'Comments', 'Beats Per Minute',\n",
       "       'Rating', 'Album Rating', 'Remember Playback Position',\n",
       "       'Album Rating Method', 'Work Name', 'Movement Name', 'Movement Number',\n",
       "       'Movement Count', 'Display Work Name', 'Playlist Only Track',\n",
       "       'Sort Album Artist', 'Tag Matched Track Identifier'],\n",
       "      dtype='object')"
      ]
     },
     "execution_count": 14,
     "metadata": {},
     "output_type": "execute_result"
    }
   ],
   "source": [
    "library_tracks_df.columns"
   ]
  },
  {
   "cell_type": "code",
   "execution_count": 15,
   "metadata": {},
   "outputs": [
    {
     "data": {
      "text/plain": [
       "Content Type\n",
       "Song           2743\n",
       "Music Video      18\n",
       "Name: count, dtype: int64"
      ]
     },
     "execution_count": 15,
     "metadata": {},
     "output_type": "execute_result"
    }
   ],
   "source": [
    "library_tracks_df['Content Type'].value_counts()"
   ]
  },
  {
   "cell_type": "code",
   "execution_count": 16,
   "metadata": {},
   "outputs": [
    {
     "name": "stdout",
     "output_type": "stream",
     "text": [
      "2596\n"
     ]
    }
   ],
   "source": [
    "print (library_tracks_df['Title'].nunique())"
   ]
  },
  {
   "cell_type": "code",
   "execution_count": 17,
   "metadata": {},
   "outputs": [
    {
     "name": "stdout",
     "output_type": "stream",
     "text": [
      "2504\n"
     ]
    }
   ],
   "source": [
    "print (library_tracks_df['Sort Name'].nunique())"
   ]
  },
  {
   "cell_type": "code",
   "execution_count": 18,
   "metadata": {},
   "outputs": [],
   "source": [
    "non_nan_sort_name = library_tracks_df[library_tracks_df['Sort Name'].isna() == False]"
   ]
  },
  {
   "cell_type": "code",
   "execution_count": 19,
   "metadata": {},
   "outputs": [
    {
     "data": {
      "text/plain": [
       "True     2599\n",
       "False      66\n",
       "Name: count, dtype: int64"
      ]
     },
     "execution_count": 19,
     "metadata": {},
     "output_type": "execute_result"
    }
   ],
   "source": [
    "(non_nan_sort_name['Sort Name'] == non_nan_sort_name['Title']).value_counts()"
   ]
  },
  {
   "cell_type": "code",
   "execution_count": 21,
   "metadata": {},
   "outputs": [],
   "source": [
    "library_tracks_df.to_csv('library_tracks.csv', index=False)"
   ]
  },
  {
   "cell_type": "code",
   "execution_count": 24,
   "metadata": {},
   "outputs": [
    {
     "data": {
      "text/plain": [
       "Skip Count\n",
       "0     1118\n",
       "3      245\n",
       "2      216\n",
       "4      205\n",
       "1      202\n",
       "5      195\n",
       "6      185\n",
       "7      133\n",
       "8       91\n",
       "9       64\n",
       "10      47\n",
       "11      32\n",
       "12      14\n",
       "14       4\n",
       "13       4\n",
       "16       2\n",
       "15       2\n",
       "18       2\n",
       "Name: count, dtype: int64"
      ]
     },
     "execution_count": 24,
     "metadata": {},
     "output_type": "execute_result"
    }
   ],
   "source": [
    "library_tracks_df['Skip Count'].value_counts()"
   ]
  },
  {
   "cell_type": "code",
   "execution_count": null,
   "metadata": {},
   "outputs": [],
   "source": []
  }
 ],
 "metadata": {
  "kernelspec": {
   "display_name": "airflow",
   "language": "python",
   "name": "python3"
  },
  "language_info": {
   "codemirror_mode": {
    "name": "ipython",
    "version": 3
   },
   "file_extension": ".py",
   "mimetype": "text/x-python",
   "name": "python",
   "nbconvert_exporter": "python",
   "pygments_lexer": "ipython3",
   "version": "3.11.5"
  }
 },
 "nbformat": 4,
 "nbformat_minor": 2
}
