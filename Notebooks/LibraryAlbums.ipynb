{
 "cells": [
  {
   "cell_type": "code",
   "execution_count": 3,
   "metadata": {},
   "outputs": [],
   "source": [
    "import os\n",
    "import json\n",
    "import pyperclip\n",
    "import pandas as pd"
   ]
  },
  {
   "cell_type": "code",
   "execution_count": 53,
   "metadata": {},
   "outputs": [],
   "source": [
    "DATA_PATH = os.path.join('../Apple Music Activity')\n",
    "FILE_NAME = 'Apple Music Library Albums.json'\n",
    "DOCS_PATH = os.path.join('../docs/Library')\n",
    "DOC_NAME = 'LIBRARY_ALBUMS.md'"
   ]
  },
  {
   "cell_type": "code",
   "execution_count": 19,
   "metadata": {},
   "outputs": [],
   "source": [
    "with open(os.path.join(DATA_PATH, FILE_NAME), 'r') as f:\n",
    "    library = json.load(f)"
   ]
  },
  {
   "cell_type": "code",
   "execution_count": 20,
   "metadata": {},
   "outputs": [
    {
     "data": {
      "text/plain": [
       "(1702, list)"
      ]
     },
     "execution_count": 20,
     "metadata": {},
     "output_type": "execute_result"
    }
   ],
   "source": [
    "len(library), type(library)"
   ]
  },
  {
   "cell_type": "code",
   "execution_count": 22,
   "metadata": {},
   "outputs": [
    {
     "data": {
      "text/plain": [
       "dict_keys(['Album ID', 'Title', 'Date Created', 'Date Created In Library', 'Visible', 'Catalog Identifiers - Album'])"
      ]
     },
     "execution_count": 22,
     "metadata": {},
     "output_type": "execute_result"
    }
   ],
   "source": [
    "library[0].keys()"
   ]
  },
  {
   "cell_type": "code",
   "execution_count": 23,
   "metadata": {},
   "outputs": [
    {
     "data": {
      "text/plain": [
       "{5, 6, 8}"
      ]
     },
     "execution_count": 23,
     "metadata": {},
     "output_type": "execute_result"
    }
   ],
   "source": [
    "keys_set = set()\n",
    "for item in library:\n",
    "    keys_set.add(len(item.keys()))\n",
    "keys_set"
   ]
  },
  {
   "cell_type": "code",
   "execution_count": 24,
   "metadata": {},
   "outputs": [
    {
     "data": {
      "text/plain": [
       "{bool, str}"
      ]
     },
     "execution_count": 24,
     "metadata": {},
     "output_type": "execute_result"
    }
   ],
   "source": [
    "types_set = set()\n",
    "for item in library:\n",
    "    for key in item.keys():\n",
    "        types_set.add(type(item[key]))\n",
    "        \n",
    "types_set"
   ]
  },
  {
   "cell_type": "code",
   "execution_count": 25,
   "metadata": {},
   "outputs": [],
   "source": [
    "df = pd.DataFrame(library)"
   ]
  },
  {
   "cell_type": "code",
   "execution_count": 26,
   "metadata": {},
   "outputs": [
    {
     "data": {
      "text/plain": [
       "(1702, 8)"
      ]
     },
     "execution_count": 26,
     "metadata": {},
     "output_type": "execute_result"
    }
   ],
   "source": [
    "df.shape"
   ]
  },
  {
   "cell_type": "code",
   "execution_count": 27,
   "metadata": {},
   "outputs": [
    {
     "data": {
      "text/plain": [
       "Index(['Album ID', 'Title', 'Date Created', 'Date Created In Library',\n",
       "       'Visible', 'Catalog Identifiers - Album', 'Favorite Album - Status',\n",
       "       'Favorite Album - Date'],\n",
       "      dtype='object')"
      ]
     },
     "execution_count": 27,
     "metadata": {},
     "output_type": "execute_result"
    }
   ],
   "source": [
    "df.columns"
   ]
  },
  {
   "cell_type": "code",
   "execution_count": 28,
   "metadata": {},
   "outputs": [
    {
     "data": {
      "text/plain": [
       "1702"
      ]
     },
     "execution_count": 28,
     "metadata": {},
     "output_type": "execute_result"
    }
   ],
   "source": [
    "df['Album ID'].nunique()"
   ]
  },
  {
   "cell_type": "code",
   "execution_count": 29,
   "metadata": {},
   "outputs": [
    {
     "data": {
      "text/plain": [
       "Album ID\n",
       "l.00DcEq9    1\n",
       "l.i0nhnht    1\n",
       "l.hxxlqdx    1\n",
       "l.hxO7jXw    1\n",
       "l.hwsHup8    1\n",
       "            ..\n",
       "l.M7Agr7e    1\n",
       "l.M48MNh8    1\n",
       "l.Lz6OpSi    1\n",
       "l.LqBtKBn    1\n",
       "l.ztDqLco    1\n",
       "Name: count, Length: 1702, dtype: int64"
      ]
     },
     "execution_count": 29,
     "metadata": {},
     "output_type": "execute_result"
    }
   ],
   "source": [
    "df['Album ID'].value_counts()"
   ]
  },
  {
   "cell_type": "code",
   "execution_count": 30,
   "metadata": {},
   "outputs": [
    {
     "data": {
      "text/plain": [
       "0"
      ]
     },
     "execution_count": 30,
     "metadata": {},
     "output_type": "execute_result"
    }
   ],
   "source": [
    "df['Album ID'].isna().sum()"
   ]
  },
  {
   "cell_type": "code",
   "execution_count": 31,
   "metadata": {},
   "outputs": [
    {
     "data": {
      "text/plain": [
       "1597"
      ]
     },
     "execution_count": 31,
     "metadata": {},
     "output_type": "execute_result"
    }
   ],
   "source": [
    "df['Title'].nunique()"
   ]
  },
  {
   "cell_type": "code",
   "execution_count": 32,
   "metadata": {},
   "outputs": [
    {
     "data": {
      "text/plain": [
       "Title\n",
       "                                                        82\n",
       "Shang-Chi and The Legend of The Ten Rings: The Album     3\n",
       "Hate Me - Single                                         2\n",
       "Kalyug (Original Motion Picture Soundtrack)              2\n",
       "Lahore - Single                                          2\n",
       "                                                        ..\n",
       "Punya Paap                                               1\n",
       "PTSD                                                     1\n",
       "Upper Echelon (feat. T.I. & 2 Chainz) - Single           1\n",
       "Baarishein - Single                                      1\n",
       "Until Now                                                1\n",
       "Name: count, Length: 1597, dtype: int64"
      ]
     },
     "execution_count": 32,
     "metadata": {},
     "output_type": "execute_result"
    }
   ],
   "source": [
    "df['Title'].value_counts()"
   ]
  },
  {
   "cell_type": "code",
   "execution_count": 33,
   "metadata": {},
   "outputs": [
    {
     "data": {
      "text/plain": [
       "0"
      ]
     },
     "execution_count": 33,
     "metadata": {},
     "output_type": "execute_result"
    }
   ],
   "source": [
    "df['Title'].isna().sum()"
   ]
  },
  {
   "cell_type": "code",
   "execution_count": 34,
   "metadata": {},
   "outputs": [
    {
     "data": {
      "text/plain": [
       "72       \n",
       "106      \n",
       "151      \n",
       "164      \n",
       "211      \n",
       "       ..\n",
       "1674     \n",
       "1675     \n",
       "1676     \n",
       "1677     \n",
       "1678     \n",
       "Name: Title, Length: 82, dtype: object"
      ]
     },
     "execution_count": 34,
     "metadata": {},
     "output_type": "execute_result"
    }
   ],
   "source": [
    "df[df['Title'] == '']['Title']"
   ]
  },
  {
   "cell_type": "code",
   "execution_count": 35,
   "metadata": {},
   "outputs": [
    {
     "data": {
      "text/plain": [
       "1397"
      ]
     },
     "execution_count": 35,
     "metadata": {},
     "output_type": "execute_result"
    }
   ],
   "source": [
    "df['Date Created'].nunique()"
   ]
  },
  {
   "cell_type": "code",
   "execution_count": 36,
   "metadata": {},
   "outputs": [
    {
     "data": {
      "text/plain": [
       "Date Created\n",
       "2023-02-15T08:07:07Z    57\n",
       "2024-07-22T02:18:17Z    43\n",
       "2024-07-22T02:18:20Z    31\n",
       "2022-04-28T00:59:21Z    25\n",
       "2021-06-05T17:48:05Z    24\n",
       "                        ..\n",
       "2023-07-12T21:04:40Z     1\n",
       "2022-07-06T19:02:22Z     1\n",
       "2022-12-17T22:07:57Z     1\n",
       "2023-12-30T09:15:28Z     1\n",
       "2023-11-01T06:36:09Z     1\n",
       "Name: count, Length: 1397, dtype: int64"
      ]
     },
     "execution_count": 36,
     "metadata": {},
     "output_type": "execute_result"
    }
   ],
   "source": [
    "df['Date Created'].value_counts()"
   ]
  },
  {
   "cell_type": "code",
   "execution_count": 37,
   "metadata": {},
   "outputs": [
    {
     "data": {
      "text/plain": [
       "0"
      ]
     },
     "execution_count": 37,
     "metadata": {},
     "output_type": "execute_result"
    }
   ],
   "source": [
    "df['Date Created'].isna().sum()"
   ]
  },
  {
   "cell_type": "code",
   "execution_count": 38,
   "metadata": {},
   "outputs": [
    {
     "data": {
      "text/plain": [
       "1363"
      ]
     },
     "execution_count": 38,
     "metadata": {},
     "output_type": "execute_result"
    }
   ],
   "source": [
    "df['Date Created In Library'].nunique()"
   ]
  },
  {
   "cell_type": "code",
   "execution_count": 39,
   "metadata": {},
   "outputs": [
    {
     "data": {
      "text/plain": [
       "Date Created In Library\n",
       "2023-02-15T08:07:07Z    57\n",
       "2024-07-22T02:18:17Z    43\n",
       "2024-07-22T02:18:20Z    31\n",
       "2021-06-05T17:48:05Z    30\n",
       "2022-04-28T01:04:28Z    25\n",
       "                        ..\n",
       "2021-06-23T01:47:58Z     1\n",
       "2023-05-14T17:18:11Z     1\n",
       "2021-03-08T07:31:02Z     1\n",
       "2022-04-14T21:59:56Z     1\n",
       "2023-11-01T06:36:09Z     1\n",
       "Name: count, Length: 1363, dtype: int64"
      ]
     },
     "execution_count": 39,
     "metadata": {},
     "output_type": "execute_result"
    }
   ],
   "source": [
    "df['Date Created In Library'].value_counts()"
   ]
  },
  {
   "cell_type": "code",
   "execution_count": 40,
   "metadata": {},
   "outputs": [
    {
     "data": {
      "text/plain": [
       "0"
      ]
     },
     "execution_count": 40,
     "metadata": {},
     "output_type": "execute_result"
    }
   ],
   "source": [
    "df['Date Created In Library'].isna().sum()"
   ]
  },
  {
   "cell_type": "code",
   "execution_count": 41,
   "metadata": {},
   "outputs": [
    {
     "data": {
      "text/plain": [
       "2"
      ]
     },
     "execution_count": 41,
     "metadata": {},
     "output_type": "execute_result"
    }
   ],
   "source": [
    "df['Favorite Album - Date'].nunique()"
   ]
  },
  {
   "cell_type": "code",
   "execution_count": 42,
   "metadata": {},
   "outputs": [
    {
     "data": {
      "text/plain": [
       "Favorite Album - Date\n",
       "2021-03-26T01:48:22Z    1\n",
       "2023-02-17T21:24:35Z    1\n",
       "Name: count, dtype: int64"
      ]
     },
     "execution_count": 42,
     "metadata": {},
     "output_type": "execute_result"
    }
   ],
   "source": [
    "df['Favorite Album - Date'].value_counts()"
   ]
  },
  {
   "cell_type": "code",
   "execution_count": 43,
   "metadata": {},
   "outputs": [
    {
     "data": {
      "text/plain": [
       "1700"
      ]
     },
     "execution_count": 43,
     "metadata": {},
     "output_type": "execute_result"
    }
   ],
   "source": [
    "df['Favorite Album - Date'].isna().sum()"
   ]
  },
  {
   "cell_type": "code",
   "execution_count": 44,
   "metadata": {},
   "outputs": [
    {
     "data": {
      "text/plain": [
       "864             Vaaqif\n",
       "1129    Quest For Fire\n",
       "Name: Title, dtype: object"
      ]
     },
     "execution_count": 44,
     "metadata": {},
     "output_type": "execute_result"
    }
   ],
   "source": [
    "df[~df['Favorite Album - Date'].isna()]['Title']"
   ]
  },
  {
   "cell_type": "code",
   "execution_count": 45,
   "metadata": {},
   "outputs": [
    {
     "data": {
      "text/plain": [
       "1"
      ]
     },
     "execution_count": 45,
     "metadata": {},
     "output_type": "execute_result"
    }
   ],
   "source": [
    "df['Favorite Album - Status'].nunique()"
   ]
  },
  {
   "cell_type": "code",
   "execution_count": 46,
   "metadata": {},
   "outputs": [
    {
     "data": {
      "text/plain": [
       "Favorite Album - Status\n",
       "True    2\n",
       "Name: count, dtype: int64"
      ]
     },
     "execution_count": 46,
     "metadata": {},
     "output_type": "execute_result"
    }
   ],
   "source": [
    "df['Favorite Album - Status'].value_counts()"
   ]
  },
  {
   "cell_type": "code",
   "execution_count": 47,
   "metadata": {},
   "outputs": [
    {
     "data": {
      "text/plain": [
       "864             Vaaqif\n",
       "1129    Quest For Fire\n",
       "Name: Title, dtype: object"
      ]
     },
     "execution_count": 47,
     "metadata": {},
     "output_type": "execute_result"
    }
   ],
   "source": [
    "df[~df['Favorite Album - Status'].isna()]['Title']"
   ]
  },
  {
   "cell_type": "code",
   "execution_count": 48,
   "metadata": {},
   "outputs": [
    {
     "data": {
      "text/plain": [
       "1417"
      ]
     },
     "execution_count": 48,
     "metadata": {},
     "output_type": "execute_result"
    }
   ],
   "source": [
    "df['Catalog Identifiers - Album'].nunique()"
   ]
  },
  {
   "cell_type": "code",
   "execution_count": 49,
   "metadata": {},
   "outputs": [
    {
     "data": {
      "text/plain": [
       "Catalog Identifiers - Album\n",
       "1             69\n",
       "1440829274     2\n",
       "409001929      1\n",
       "1253102461     1\n",
       "1655166004     1\n",
       "              ..\n",
       "1706792328     1\n",
       "1660225374     1\n",
       "1542201783     1\n",
       "1563859312     1\n",
       "1021728914     1\n",
       "Name: count, Length: 1417, dtype: int64"
      ]
     },
     "execution_count": 49,
     "metadata": {},
     "output_type": "execute_result"
    }
   ],
   "source": [
    "df['Catalog Identifiers - Album'].value_counts()"
   ]
  },
  {
   "cell_type": "code",
   "execution_count": 50,
   "metadata": {},
   "outputs": [
    {
     "data": {
      "text/plain": [
       "Series([], Name: Title, dtype: object)"
      ]
     },
     "execution_count": 50,
     "metadata": {},
     "output_type": "execute_result"
    }
   ],
   "source": [
    "df[df['Catalog Identifiers - Album'] == 1]['Title']"
   ]
  },
  {
   "cell_type": "code",
   "execution_count": 54,
   "metadata": {},
   "outputs": [],
   "source": [
    "df_non_nans = df.isna().sum(axis=1)\n",
    "min_len = df_non_nans.min()\n",
    "min_len_idx = df_non_nans.idxmin()"
   ]
  },
  {
   "cell_type": "code",
   "execution_count": 51,
   "metadata": {},
   "outputs": [
    {
     "data": {
      "text/plain": [
       "'\\n# Library Albums Data Definition\\n\\nThis data dictionary describes the fields in the Apple Music Library Albums.json data. There are 1702 rows and 8 columns. \\n\\n## Library Track Data\\n\\n'"
      ]
     },
     "execution_count": 51,
     "metadata": {},
     "output_type": "execute_result"
    }
   ],
   "source": [
    "mdown_text = f\"\"\"\n",
    "# Library Albums Data Definition\n",
    "\n",
    "This data dictionary describes the fields in the {FILE_NAME} data. There are {df.shape[0]} rows and {df.shape[1]} columns. \n",
    "\n",
    "## Library Track Data\n",
    "\n",
    "\"\"\""
   ]
  },
  {
   "cell_type": "code",
   "execution_count": 56,
   "metadata": {},
   "outputs": [],
   "source": [
    "def generate_markdown_table(df, min_index):\n",
    "    # Helper function to map data types to more readable formats\n",
    "    def map_data_type(dtype, sample_value):\n",
    "        # Check for datetime\n",
    "        if pd.api.types.is_datetime64_any_dtype(dtype) or (\n",
    "            isinstance(sample_value, str) and pd.to_datetime(sample_value, errors='coerce') is not pd.NaT\n",
    "        ):\n",
    "            return \"Datetime\"\n",
    "        # Check for Boolean (Python Boolean or string representation)\n",
    "        elif isinstance(sample_value, bool) or (isinstance(sample_value, str) and sample_value.lower() in [\"true\", \"false\"]):\n",
    "            return \"Boolean\"\n",
    "        elif pd.api.types.is_string_dtype(dtype):\n",
    "            return \"String\"\n",
    "        elif pd.api.types.is_numeric_dtype(dtype):\n",
    "            if pd.api.types.is_integer_dtype(dtype):\n",
    "                return \"Integer\"\n",
    "            elif pd.api.types.is_float_dtype(dtype):\n",
    "                return \"Float\"\n",
    "        elif isinstance(sample_value, list):\n",
    "            return \"List\"\n",
    "        else:\n",
    "            return str(dtype)  # Fallback to original dtype if no match\n",
    "\n",
    "    # Generate the table header\n",
    "    markdown = \"| Column Name | Data Type | Description | Example Value |\\n\"\n",
    "    markdown += \"|-------------|-----------|-------------|---------------|\\n\"\n",
    "\n",
    "    # Iterate over DataFrame columns to generate each row\n",
    "    for column in df.columns:\n",
    "        sample_value = df[column].iloc[min_len_idx] if not df[column].empty else \"N/A\"\n",
    "        data_type = map_data_type(df[column].dtype, sample_value)\n",
    "        # Convert example_value to string to avoid formatting issues\n",
    "        example_value = str(sample_value).replace(\"\\n\", \" \").replace(\"|\", \"\\\\|\")\n",
    "        # Create a new row for each column\n",
    "        markdown += f\"| `{column}` | {data_type} |  | {example_value} |\\n\"\n",
    "\n",
    "    return markdown\n",
    "\n",
    "mdown_text += generate_markdown_table(df, min_len_idx)\n",
    "\n"
   ]
  },
  {
   "cell_type": "code",
   "execution_count": 57,
   "metadata": {},
   "outputs": [],
   "source": [
    "def write_markdown_file(mdown_text, file_path):\n",
    "    with open(file_path, 'w') as f:\n",
    "        f.write(mdown_text)\n",
    "    print(f\"Markdown file saved to {file_path}\")"
   ]
  },
  {
   "cell_type": "code",
   "execution_count": 58,
   "metadata": {},
   "outputs": [
    {
     "name": "stdout",
     "output_type": "stream",
     "text": [
      "Markdown file saved to ../docs/Library/LIBRARY_ALBUMS.md\n"
     ]
    }
   ],
   "source": [
    "write_markdown_file(mdown_text, os.path.join(DOCS_PATH, DOC_NAME))"
   ]
  },
  {
   "cell_type": "code",
   "execution_count": null,
   "metadata": {},
   "outputs": [],
   "source": []
  }
 ],
 "metadata": {
  "kernelspec": {
   "display_name": "airflow",
   "language": "python",
   "name": "python3"
  },
  "language_info": {
   "codemirror_mode": {
    "name": "ipython",
    "version": 3
   },
   "file_extension": ".py",
   "mimetype": "text/x-python",
   "name": "python",
   "nbconvert_exporter": "python",
   "pygments_lexer": "ipython3",
   "version": "3.11.5"
  },
  "orig_nbformat": 4
 },
 "nbformat": 4,
 "nbformat_minor": 2
}
