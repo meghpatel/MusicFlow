{
 "cells": [
  {
   "cell_type": "code",
   "execution_count": 1,
   "metadata": {},
   "outputs": [],
   "source": [
    "import json\n",
    "import os"
   ]
  },
  {
   "cell_type": "code",
   "execution_count": 3,
   "metadata": {},
   "outputs": [],
   "source": [
    "current_os = os.name\n",
    "\n",
    "DATA_PATH = \"Apple Music Activity/\"\n",
    "files = os.listdir(DATA_PATH)\n",
    "\n",
    "json_files = []\n",
    "csv_files = []\n",
    "\n",
    "for file in files:\n",
    "    if file.endswith(\".json\"):\n",
    "        json_files.append(file)\n",
    "    elif file.endswith(\".csv\"):\n",
    "        csv_files.append(file)\n",
    "\n",
    "json_data = []\n",
    "\n",
    "for json_file in json_files:\n",
    "    with open(os.path.join(DATA_PATH, json_file), \"r\") as f:\n",
    "        data = json.load(f)\n",
    "        json_data.append(data)\n"
   ]
  },
  {
   "cell_type": "code",
   "execution_count": 4,
   "metadata": {},
   "outputs": [
    {
     "data": {
      "text/plain": [
       "'Apple Music Library Activity.json'"
      ]
     },
     "execution_count": 4,
     "metadata": {},
     "output_type": "execute_result"
    }
   ],
   "source": [
    "json_files[0]"
   ]
  },
  {
   "cell_type": "code",
   "execution_count": 6,
   "metadata": {},
   "outputs": [
    {
     "name": "stdout",
     "output_type": "stream",
     "text": [
      "4147\n"
     ]
    }
   ],
   "source": [
    "amla = json_data[0]\n",
    "\n",
    "print (len(amla))"
   ]
  },
  {
   "cell_type": "code",
   "execution_count": 7,
   "metadata": {},
   "outputs": [
    {
     "data": {
      "text/plain": [
       "dict"
      ]
     },
     "execution_count": 7,
     "metadata": {},
     "output_type": "execute_result"
    }
   ],
   "source": [
    "type(amla[0])"
   ]
  },
  {
   "cell_type": "code",
   "execution_count": 8,
   "metadata": {},
   "outputs": [
    {
     "data": {
      "text/plain": [
       "{dict}"
      ]
     },
     "execution_count": 8,
     "metadata": {},
     "output_type": "execute_result"
    }
   ],
   "source": [
    "type_set = set()\n",
    "for item in amla:\n",
    "    type_set.add(type(item))\n",
    "\n",
    "type_set"
   ]
  },
  {
   "cell_type": "code",
   "execution_count": 9,
   "metadata": {},
   "outputs": [
    {
     "data": {
      "text/plain": [
       "{5, 6, 7, 8}"
      ]
     },
     "execution_count": 9,
     "metadata": {},
     "output_type": "execute_result"
    }
   ],
   "source": [
    "len_set = set()\n",
    "for item in amla:\n",
    "    len_set.add(len(item.keys()))\n",
    "\n",
    "len_set"
   ]
  },
  {
   "cell_type": "code",
   "execution_count": 11,
   "metadata": {},
   "outputs": [
    {
     "data": {
      "text/plain": [
       "{'Artist Catalog Identifier',\n",
       " 'Country',\n",
       " 'Favorite Type',\n",
       " 'Language',\n",
       " 'Liked Status',\n",
       " 'Modified Container Identifiers',\n",
       " 'Playlist',\n",
       " 'Playlist Identifier',\n",
       " 'Playlist Identifiers Added From Profile',\n",
       " 'Playlist Identifiers Removed From Profile',\n",
       " 'Playlist Identifiers Set From Profile',\n",
       " 'Playlist Item Identifiers Appended',\n",
       " 'Playlists',\n",
       " 'Public Playlist Identifier',\n",
       " 'Subscription End Date',\n",
       " 'Subscription Start Date',\n",
       " 'Subscription Type',\n",
       " 'Subscription Types',\n",
       " 'Track Identifiers',\n",
       " 'Tracks',\n",
       " 'Transaction Date',\n",
       " 'Transaction Identifier',\n",
       " 'Transaction Type',\n",
       " 'User',\n",
       " 'UserAgent'}"
      ]
     },
     "execution_count": 11,
     "metadata": {},
     "output_type": "execute_result"
    }
   ],
   "source": [
    "keys = set()\n",
    "for item in amla:\n",
    "    for key in item.keys():\n",
    "        keys.add(key)\n",
    "\n",
    "keys"
   ]
  },
  {
   "cell_type": "code",
   "execution_count": 13,
   "metadata": {},
   "outputs": [
    {
     "data": {
      "text/plain": [
       "(26, 25)"
      ]
     },
     "execution_count": 13,
     "metadata": {},
     "output_type": "execute_result"
    }
   ],
   "source": [
    "5 + 6 + 7 + 8, len(keys)"
   ]
  },
  {
   "cell_type": "code",
   "execution_count": null,
   "metadata": {},
   "outputs": [],
   "source": []
  }
 ],
 "metadata": {
  "kernelspec": {
   "display_name": "airflow",
   "language": "python",
   "name": "python3"
  },
  "language_info": {
   "codemirror_mode": {
    "name": "ipython",
    "version": 3
   },
   "file_extension": ".py",
   "mimetype": "text/x-python",
   "name": "python",
   "nbconvert_exporter": "python",
   "pygments_lexer": "ipython3",
   "version": "3.11.6"
  }
 },
 "nbformat": 4,
 "nbformat_minor": 2
}
